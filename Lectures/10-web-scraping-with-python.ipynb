{
 "cells": [
  {
   "cell_type": "markdown",
   "metadata": {
    "slideshow": {
     "slide_type": "slide"
    }
   },
   "source": [
    "# Programming and Data Analysis\n",
    "\n",
    "> Web Scraping with Python\n",
    "\n",
    "Kuo, Yao-Jen <yaojenkuo@ntu.edu.tw> from [DATAINPOINT](https://www.datainpoint.com/)"
   ]
  },
  {
   "cell_type": "code",
   "execution_count": 1,
   "metadata": {
    "slideshow": {
     "slide_type": "subslide"
    }
   },
   "outputs": [],
   "source": [
    "import requests\n",
    "import json\n",
    "import re\n",
    "import xml.etree.ElementTree as ET\n",
    "from bs4 import BeautifulSoup"
   ]
  },
  {
   "cell_type": "markdown",
   "metadata": {
    "slideshow": {
     "slide_type": "slide"
    }
   },
   "source": [
    "## About web scraping"
   ]
  },
  {
   "cell_type": "markdown",
   "metadata": {
    "slideshow": {
     "slide_type": "subslide"
    }
   },
   "source": [
    "## What is web scraping?\n",
    "\n",
    "> Web scraping is extracting data directly from World Wide Web directly using the Hypertext Transfer Protocol(HTTP). While web scraping can be done manually by a human(via a browser.) The term typically refers to automated processes implemented using a bot or web crawler. It is a form of copying, in which specific data is gathered and copied from the web, typically into a central local database or spreadsheet, for later retrieval or analysis.\n",
    "\n",
    "Source: <https://en.wikipedia.org/wiki/Web_scraping>"
   ]
  },
  {
   "cell_type": "markdown",
   "metadata": {
    "slideshow": {
     "slide_type": "subslide"
    }
   },
   "source": [
    "## Core missions involved in web scraping\n",
    "\n",
    "- Transferring data.\n",
    "- Parsing data."
   ]
  },
  {
   "cell_type": "markdown",
   "metadata": {
    "slideshow": {
     "slide_type": "subslide"
    }
   },
   "source": [
    "## What is transferring data?\n",
    "\n",
    "Trasferring data is the underlying network protocol between a browser(or a web scraping script) and a server that enables exchange of hypermedia documents on the Web. The technical term for transferring data is the **HyperText Transfer Protocol (HTTP)**."
   ]
  },
  {
   "cell_type": "markdown",
   "metadata": {
    "slideshow": {
     "slide_type": "subslide"
    }
   },
   "source": [
    "## 2 ways involved in transferring data\n",
    "\n",
    "1. To a server: requesting data.\n",
    "2. From a server: responding data."
   ]
  },
  {
   "cell_type": "markdown",
   "metadata": {
    "slideshow": {
     "slide_type": "subslide"
    }
   },
   "source": [
    "## Types of HTTP request methods to a server involved in web scraping\n",
    "\n",
    "- GET method.\n",
    "- POST method.\n",
    "\n",
    "Source: <https://developer.mozilla.org/en-US/docs/Web/HTTP/Methods>"
   ]
  },
  {
   "cell_type": "markdown",
   "metadata": {
    "slideshow": {
     "slide_type": "subslide"
    }
   },
   "source": [
    "## What is a GET method\n",
    "\n",
    "> The GET method requests a representation of the specified resource, e.g. reading a blog post."
   ]
  },
  {
   "cell_type": "markdown",
   "metadata": {
    "slideshow": {
     "slide_type": "subslide"
    }
   },
   "source": [
    "## What is a POST method\n",
    "\n",
    "> The POST method is used to submit an entity to the specified resource, often causing a change in state or side effects on the server, e.g. writing a blog post."
   ]
  },
  {
   "cell_type": "markdown",
   "metadata": {
    "slideshow": {
     "slide_type": "subslide"
    }
   },
   "source": [
    "## To transfer data between browser and server looks simple and straight-forward\n",
    "\n",
    "- We enter a Uniform Resource Locator(URL).\n",
    "- We fill a form then submit.\n",
    "- We interact with abundant user-interface components.\n",
    "- ...etc."
   ]
  },
  {
   "cell_type": "markdown",
   "metadata": {
    "slideshow": {
     "slide_type": "slide"
    }
   },
   "source": [
    "## Developer tools"
   ]
  },
  {
   "cell_type": "markdown",
   "metadata": {
    "slideshow": {
     "slide_type": "subslide"
    }
   },
   "source": [
    "## We can actually see the process of transferring data via the developer tools of a browser\n",
    "\n",
    "A set of web developer tools built directly into the browser. It can help us edit pages on-the-fly and diagnose problems quickly, which ultimately helps us build better websites, faster."
   ]
  },
  {
   "cell_type": "markdown",
   "metadata": {
    "slideshow": {
     "slide_type": "subslide"
    }
   },
   "source": [
    "![Imgur](https://i.imgur.com/3Synk8m.png?1)"
   ]
  },
  {
   "cell_type": "markdown",
   "metadata": {
    "slideshow": {
     "slide_type": "subslide"
    }
   },
   "source": [
    "## We use Network to see the details of data transfer\n",
    "\n",
    "1. Open Developer Tools.\n",
    "2. Click Network.\n",
    "3. Refresh website."
   ]
  },
  {
   "cell_type": "markdown",
   "metadata": {
    "slideshow": {
     "slide_type": "subslide"
    }
   },
   "source": [
    "![Imgur](https://i.imgur.com/OG0Huwj.png?1)"
   ]
  },
  {
   "cell_type": "markdown",
   "metadata": {
    "slideshow": {
     "slide_type": "subslide"
    }
   },
   "source": [
    "## Each data(file) is a complete process of request and response\n",
    "\n",
    "- Request\n",
    "    - Headers\n",
    "    - Method\n",
    "- Response\n",
    "    - Body"
   ]
  },
  {
   "cell_type": "markdown",
   "metadata": {
    "slideshow": {
     "slide_type": "subslide"
    }
   },
   "source": [
    "## There is a lot of data transferring during web page rendering\n",
    "\n",
    "- **XHR(XMLHttpRequest)**\n",
    "- JS\n",
    "- CSS\n",
    "- Img\n",
    "- Media\n",
    "- Font\n",
    "- **Doc(HTML documents)**\n",
    "- WS\n",
    "- Manifest\n",
    "- Other"
   ]
  },
  {
   "cell_type": "markdown",
   "metadata": {
    "slideshow": {
     "slide_type": "subslide"
    }
   },
   "source": [
    "## We can turn off browser's JavaScript to validate where to find the data\n",
    "\n",
    "- If data disappears, check **XHR**.\n",
    "- If data still exists, check **Doc**."
   ]
  },
  {
   "cell_type": "markdown",
   "metadata": {
    "slideshow": {
     "slide_type": "subslide"
    }
   },
   "source": [
    "## Check which file contains the data we want to scrape\n",
    "\n",
    "- Preview(Response body rendered in browser)\n",
    "- Response(body)"
   ]
  },
  {
   "cell_type": "markdown",
   "metadata": {
    "slideshow": {
     "slide_type": "subslide"
    }
   },
   "source": [
    "## A Chrome browser plug-in to turn JavaScript off\n",
    "\n",
    "<https://chrome.google.com/webstore/detail/quick-javascript-switcher/geddoclleiomckbhadiaipdggiiccfje>"
   ]
  },
  {
   "cell_type": "markdown",
   "metadata": {
    "slideshow": {
     "slide_type": "subslide"
    }
   },
   "source": [
    "## Let's see how it works\n",
    "\n",
    "- <https://ecshweb.pchome.com.tw/search/v3.3>: Data disappears, check **XHR**.\n",
    "- <https://emap.pcsc.com.tw>: Data disappears, check **XHR**.\n",
    "- <https://www.imdb.com/chart/top>: Data still exists, check **Doc**."
   ]
  },
  {
   "cell_type": "markdown",
   "metadata": {
    "slideshow": {
     "slide_type": "subslide"
    }
   },
   "source": [
    "## Once we've found what we need, check its details\n",
    "\n",
    "- Headers\n",
    "    - General\n",
    "        - Request URL\n",
    "        - Request Method\n",
    "    - Request Headers\n",
    "    - Query String Parameters(if any)\n",
    "    - Form Data(if any)"
   ]
  },
  {
   "cell_type": "markdown",
   "metadata": {
    "slideshow": {
     "slide_type": "subslide"
    }
   },
   "source": [
    "![Imgur](https://i.imgur.com/cTva78r.png?1)"
   ]
  },
  {
   "cell_type": "markdown",
   "metadata": {
    "slideshow": {
     "slide_type": "subslide"
    }
   },
   "source": [
    "![Imgur](https://i.imgur.com/LMVp0m7.png?1)"
   ]
  },
  {
   "cell_type": "markdown",
   "metadata": {
    "slideshow": {
     "slide_type": "subslide"
    }
   },
   "source": [
    "## But how do we transfer data between Python and server?\n",
    "\n",
    "We use a third-party library called [Requests](https://requests.readthedocs.io/en/master/)."
   ]
  },
  {
   "cell_type": "markdown",
   "metadata": {
    "slideshow": {
     "slide_type": "slide"
    }
   },
   "source": [
    "## Requests"
   ]
  },
  {
   "cell_type": "markdown",
   "metadata": {
    "slideshow": {
     "slide_type": "subslide"
    }
   },
   "source": [
    "## What is Requests?\n",
    "\n",
    "> Requests is an elegant and simple HTTP library for Python, built for human being.\n",
    "\n",
    "Source: <https://requests.readthedocs.io/en/master>"
   ]
  },
  {
   "cell_type": "code",
   "execution_count": 2,
   "metadata": {},
   "outputs": [],
   "source": [
    "import requests"
   ]
  },
  {
   "cell_type": "markdown",
   "metadata": {
    "slideshow": {
     "slide_type": "subslide"
    }
   },
   "source": [
    "## If Requests is not installed, we will encounter a `ModuleNotFoundError`\n",
    "\n",
    "```\n",
    "Traceback (most recent call last):\n",
    "  File \"<stdin>\", line 1, in <module>\n",
    "ModuleNotFoundError: No module named 'requests'\n",
    "```"
   ]
  },
  {
   "cell_type": "markdown",
   "metadata": {
    "slideshow": {
     "slide_type": "subslide"
    }
   },
   "source": [
    "## Use `pip install` at Terminal to install Requests\n",
    "\n",
    "```bash\n",
    "pip install requests\n",
    "```"
   ]
  },
  {
   "cell_type": "markdown",
   "metadata": {
    "slideshow": {
     "slide_type": "subslide"
    }
   },
   "source": [
    "## Check version and its installation file path\n",
    "\n",
    "- `__version__` attribute\n",
    "- `__file__` attribute"
   ]
  },
  {
   "cell_type": "code",
   "execution_count": 3,
   "metadata": {},
   "outputs": [
    {
     "name": "stdout",
     "output_type": "stream",
     "text": [
      "2.25.1\n",
      "/Users/woohockhynn/opt/anaconda3/lib/python3.8/site-packages/requests/__init__.py\n"
     ]
    }
   ],
   "source": [
    "print(requests.__version__)\n",
    "print(requests.__file__)"
   ]
  },
  {
   "cell_type": "markdown",
   "metadata": {
    "slideshow": {
     "slide_type": "subslide"
    }
   },
   "source": [
    "## Requesting data with functions\n",
    "\n",
    "- `requests.get(request_url)`: Make a request with GET method.\n",
    "- `requests.post(request_url)`: Make a request with POST method."
   ]
  },
  {
   "cell_type": "markdown",
   "metadata": {
    "slideshow": {
     "slide_type": "subslide"
    }
   },
   "source": [
    "## Sending requests with key-word arguments\n",
    "\n",
    "- `params=query_string_parameters`\n",
    "- `data=form_data`\n",
    "- `headers=request_headers`"
   ]
  },
  {
   "cell_type": "code",
   "execution_count": 4,
   "metadata": {
    "slideshow": {
     "slide_type": "subslide"
    }
   },
   "outputs": [],
   "source": [
    "request_url = \"https://ecshweb.pchome.com.tw/search/v3.3/all/results\"\n",
    "query_string_parameters = {\n",
    "    'q': 'macbook',\n",
    "    'page': 1,\n",
    "    'sort': 'rnk/dc'\n",
    "}\n",
    "response = requests.get(request_url, params=query_string_parameters)\n",
    "\n",
    "# print(response.text)\n",
    "# print(response.json())"
   ]
  },
  {
   "cell_type": "code",
   "execution_count": 25,
   "metadata": {
    "slideshow": {
     "slide_type": "subslide"
    }
   },
   "outputs": [
    {
     "name": "stdout",
     "output_type": "stream",
     "text": [
      "<?xml version=\"1.0\" encoding=\"utf-8\"?><iMapSDKOutput><MessageID>00000</MessageID><CommandID>SearchStore</CommandID><Status>連線成功</Status><TimeStamp>2022/1/3 下午 04:42:30</TimeStamp><GeoPosition><POIID>972594              </POIID><POIName>長星</POIName><X>121545340</X><Y>25017810</Y><Telno>(02)27395493        </Telno><FaxNo>(02)27397197        </FaxNo><Address>台北市大安區基隆路三段85號</Address><SpecialStore_Kind></SpecialStore_Kind><Store_URL></Store_URL><StoreImageTitle>03ATM,04座位區,05ibon WiFi,12外送咖啡服務,19ibon,21現萃茶,22現蒸地瓜,29烘培坊,32糖果屋,33日本7-ELEVEN限定,34國際精品專櫃,37天素地蔬,39光合帕尼尼,66冷凍交貨便</StoreImageTitle></GeoPosition></iMapSDKOutput>\n"
     ]
    }
   ],
   "source": [
    "request_url = \"https://emap.pcsc.com.tw/EMapSDK.aspx\"\n",
    "form_data = {\n",
    "    'commandid': 'SearchStore',\n",
    "    'city': '台北市',\n",
    "    'town': '大安區',\n",
    "    \"roadname\": \"基隆路三段\"\n",
    "}\n",
    "response = requests.post(request_url, data=form_data)\n",
    "print(response.text)  "
   ]
  },
  {
   "cell_type": "code",
   "execution_count": 6,
   "metadata": {
    "slideshow": {
     "slide_type": "subslide"
    }
   },
   "outputs": [],
   "source": [
    "# 之前是用read_html,只能抓有table標記而已，把他們都換成data frame.\n",
    "# 如果沒有table 標記，用read_html是沒有什麼用的。\n",
    "\n",
    "\n",
    "# 這個在檢查DOC的時候有一點特別\n",
    "request_url = \"https://www.imdb.com/chart/top\"\n",
    "request_headers = {\n",
    "    \"accept-language\": \"en-US,en;q=1.0\"\n",
    "}\n",
    "response = requests.get(request_url, headers=request_headers)\n",
    "# print(response.text)"
   ]
  },
  {
   "cell_type": "markdown",
   "metadata": {},
   "source": [
    "## 第一個Webscrapping的核心任務：Transfering 已經完成"
   ]
  },
  {
   "cell_type": "markdown",
   "metadata": {},
   "source": [
    "## Week 14: "
   ]
  },
  {
   "cell_type": "markdown",
   "metadata": {
    "slideshow": {
     "slide_type": "subslide"
    }
   },
   "source": [
    "## Common attributes and methods to use on `Response` type\n",
    "\n",
    "- `status_code` attribute to validate HTTP response status codes.\n",
    "- `text` attribute to extract the response content as a Python `str`.\n",
    "- `json()` method to parse a JSON format and convert to a Python data structure."
   ]
  },
  {
   "cell_type": "markdown",
   "metadata": {
    "slideshow": {
     "slide_type": "subslide"
    }
   },
   "source": [
    "## Next step: parsing data accordingly\n",
    "\n",
    "- JSON format: call `response.json()` method to generate a Python data structure.\n",
    "- XML format: use a parser to convert `response.text` to an `Element` class.\n",
    "- HTML format: use a parser to convert `response.text` to a `BeautifulSoup` class."
   ]
  },
  {
   "cell_type": "markdown",
   "metadata": {
    "slideshow": {
     "slide_type": "slide"
    }
   },
   "source": [
    "## JSON format"
   ]
  },
  {
   "cell_type": "markdown",
   "metadata": {
    "slideshow": {
     "slide_type": "subslide"
    }
   },
   "source": [
    "## What is JSON?\n",
    "\n",
    "> JavaScript Object Notation (JSON) is a standard text-based format for representing structured data based on JavaScript object syntax. It is commonly used for transmitting data in web applications (e.g., sending some data from the server to the client's browser, so it can be displayed on a web page, or vice versa).\n",
    "\n",
    "Source: [mozilla.org](https://developer.mozilla.org/en-US/docs/Learn/JavaScript/Objects/JSON)"
   ]
  },
  {
   "cell_type": "markdown",
   "metadata": {
    "slideshow": {
     "slide_type": "subslide"
    }
   },
   "source": [
    "## How to validate if a response belongs to JSON format?\n",
    "\n",
    "- Looking into Preview(Response body rendered in browser).\n",
    "- Looking into Response(body)."
   ]
  },
  {
   "cell_type": "markdown",
   "metadata": {
    "slideshow": {
     "slide_type": "subslide"
    }
   },
   "source": [
    "## JSON exists as a string\n",
    "\n",
    "- Key-Value Storage layout, quite similar to a Python `dict`.\n",
    "- Array layout, quite similar to a Python `list`."
   ]
  },
  {
   "cell_type": "markdown",
   "metadata": {
    "slideshow": {
     "slide_type": "subslide"
    }
   },
   "source": [
    "## Let's see how a JSON format looks like\n",
    "\n",
    "<https://ecshweb.pchome.com.tw/search/v3.3>: Data disappears after turning JavaScript off, check **XHR**."
   ]
  },
  {
   "cell_type": "code",
   "execution_count": 7,
   "metadata": {
    "slideshow": {
     "slide_type": "-"
    }
   },
   "outputs": [],
   "source": [
    "request_url = \"https://ecshweb.pchome.com.tw/search/v3.3/all/results\"\n",
    "query_str_params = {\n",
    "    'q': 'macbook',\n",
    "    'page': 1,\n",
    "    'sort': 'rnk/dc'\n",
    "}\n",
    "response = requests.get(request_url, params=query_str_params)"
   ]
  },
  {
   "cell_type": "markdown",
   "metadata": {
    "slideshow": {
     "slide_type": "subslide"
    }
   },
   "source": [
    "## Calling the `json` method of `Response` to get the parsed structure"
   ]
  },
  {
   "cell_type": "code",
   "execution_count": 8,
   "metadata": {},
   "outputs": [
    {
     "name": "stdout",
     "output_type": "stream",
     "text": [
      "<class 'dict'>\n",
      "dict_keys(['QTime', 'totalRows', 'totalPage', 'range', 'cateName', 'q', 'subq', 'token', 'isMust', 'prods'])\n"
     ]
    }
   ],
   "source": [
    "json_format = response.json()\n",
    "print(type(json_format))\n",
    "print(json_format.keys())"
   ]
  },
  {
   "cell_type": "markdown",
   "metadata": {
    "slideshow": {
     "slide_type": "subslide"
    }
   },
   "source": [
    "## In fact, the `json` method of `Response` is actually calling the `loads` function from standard library `json`"
   ]
  },
  {
   "cell_type": "code",
   "execution_count": 9,
   "metadata": {},
   "outputs": [
    {
     "name": "stdout",
     "output_type": "stream",
     "text": [
      "<class 'dict'>\n",
      "dict_keys(['QTime', 'totalRows', 'totalPage', 'range', 'cateName', 'q', 'subq', 'token', 'isMust', 'prods'])\n"
     ]
    }
   ],
   "source": [
    "json_format = json.loads(response.text)\n",
    "print(type(json_format))\n",
    "print(json_format.keys())"
   ]
  },
  {
   "cell_type": "markdown",
   "metadata": {
    "slideshow": {
     "slide_type": "subslide"
    }
   },
   "source": [
    "## JSON could also exist as an array layout"
   ]
  },
  {
   "cell_type": "code",
   "execution_count": 10,
   "metadata": {},
   "outputs": [
    {
     "name": "stdout",
     "output_type": "stream",
     "text": [
      "<class 'list'>\n",
      "20\n",
      "MacBook Air 13: Apple M1 chip 8-core CPU and 7-core GPU,256GB-Space Grey (MGN63TA/A)\n",
      "MacBook Pro 14: M1 Pro chip with 8-core CPU and 14-core GPU, 512GB SSD Space Grey\n",
      "桌上型鋁合金雙槽立式支架 多用途收納NB筆電架/MacBook支架/書架\n",
      "【Amachine】TYPE C 3.1極速PD 11合1 HUB(for macbook / Surface / ipad pro)\n",
      "【MacBook】四合一 支援4K Type C to HDMI USB3.0/PD充電 傳輸擴充轉接集線器\n",
      "MacBook Air 13: 1.1GHz-10th-Intel Core i3, 256GB - Space Grey (MWTJ2TA/A)\n",
      "MacBook Air 13: Apple M1 chip 8-core CPU and 7-core GPU,256GB-Gold (MGND3TA/A)\n",
      "桌上型鋁合金立式支架 多用途收納NB筆電架/MacBook支架/書架/平板架\n",
      "USB3.0 Type-C 轉 HDMI + VGA +USB 可PD充電 影音傳輸轉換器 Macbook專用多功能四合一集線器\n",
      "MacBook Pro 14: M1 Pro chip with 8-core CPU and 14-core GPU, 512GB SSD Silver\n",
      "MacBook Pro 13 :Apple M1 chip 8-core CPU and 8-core GPU,256GB SSD-Silver\n",
      "USB3.0 Type-C 轉 HDMI 影音傳輸轉換器 Macbook專用多功能四合一集線器\n",
      "MacBook Pro 16: M1 Max chip with 10‑core CPU and 32‑core GPU, 1TB SSD - Space Grey\n",
      "MacBook Air 13: Apple M1 chip 8-core CPU and 7-core GPU,256GB-Space Grey (MGN63TA/A)\n",
      "MacBook Air 13: Apple M1 chip 8-core CPU and 8-core GPU,512GB-Space Grey (MGN73TA/A)\n",
      "MacBook Pro 13 :Apple M1 chip 8-core CPU and 8-core GPU,256GB SSD-Silver(MYDA2TA/A)\n",
      "【Amachine】Type C3.1 極速PD 十合一 HUB for macbook / Surface / ipad pro\n",
      "New MacBook Pro hub Type-C轉USB轉接器mac轉換頭 多功能充電集線器-T8\n",
      "MacBook Air 13: Apple M1 chip 8-core CPU and 7-core GPU,256GB-Silver\n",
      "MacBook Air 13: Apple M1 chip 8-core CPU and 7-core GPU,256GB-Space Grey (MGN63TA/A)\n"
     ]
    }
   ],
   "source": [
    "print(type(json_format['prods']))\n",
    "print(len(json_format['prods']))\n",
    "\n",
    "for prod in json_format['prods']:\n",
    "    print(prod['name'])\n",
    "\n"
   ]
  },
  {
   "cell_type": "markdown",
   "metadata": {
    "slideshow": {
     "slide_type": "slide"
    }
   },
   "source": [
    "## XML format"
   ]
  },
  {
   "cell_type": "markdown",
   "metadata": {
    "slideshow": {
     "slide_type": "subslide"
    }
   },
   "source": [
    "## What is XML?\n",
    "\n",
    "> XML (Extensible Markup Language) is a markup language without predefined tags to use. Instead, we define our own tags for our needs. This is a powerful way to store data in a format that can be stored, searched, and shared.\n",
    "\n",
    "Source: <https://developer.mozilla.org/en-US/docs/Web/XML>"
   ]
  },
  {
   "cell_type": "markdown",
   "metadata": {
    "slideshow": {
     "slide_type": "subslide"
    }
   },
   "source": [
    "## How to validate if a response belongs to XML format?\n",
    "\n",
    "Looking into Response(body) and check if there is a XML format being declared."
   ]
  },
  {
   "cell_type": "markdown",
   "metadata": {
    "slideshow": {
     "slide_type": "subslide"
    }
   },
   "source": [
    "## XML exists as a string\n",
    "\n",
    "Self-defined tags with a hierarchical tree layout."
   ]
  },
  {
   "cell_type": "markdown",
   "metadata": {
    "slideshow": {
     "slide_type": "subslide"
    }
   },
   "source": [
    "## Let's see how a XML format looks like\n",
    "\n",
    "<https://emap.pcsc.com.tw/EMapSDK.aspx>: Data disappears after turning JavaScript off, check **XHR**."
   ]
  },
  {
   "cell_type": "code",
   "execution_count": 11,
   "metadata": {},
   "outputs": [
    {
     "data": {
      "text/plain": [
       "47198"
      ]
     },
     "execution_count": 11,
     "metadata": {},
     "output_type": "execute_result"
    }
   ],
   "source": [
    "request_url = \"https://emap.pcsc.com.tw/EMapSDK.aspx\"\n",
    "form_data = {\n",
    "    'commandid': 'SearchStore',\n",
    "    'city': '台北市',\n",
    "    'town': '大安區'\n",
    "}\n",
    "response = requests.post(request_url, data=form_data)\n",
    "# response.text\n",
    "len(response.text)"
   ]
  },
  {
   "cell_type": "markdown",
   "metadata": {
    "slideshow": {
     "slide_type": "subslide"
    }
   },
   "source": [
    "## Use the `fromstring` function from `ET` to get the parsed structure"
   ]
  },
  {
   "cell_type": "code",
   "execution_count": 12,
   "metadata": {},
   "outputs": [
    {
     "name": "stdout",
     "output_type": "stream",
     "text": [
      "<class 'xml.etree.ElementTree.Element'>\n"
     ]
    }
   ],
   "source": [
    "root = ET.fromstring(response.text)\n",
    "print(type(root))"
   ]
  },
  {
   "cell_type": "markdown",
   "metadata": {
    "slideshow": {
     "slide_type": "subslide"
    }
   },
   "source": [
    "## Use XPath to extract data from specific tags\n",
    "\n",
    "> XPath stands for XML Path Language. It provides a flexible way of addressing (pointing to) different parts of an XML document.\n",
    "\n",
    "Source: <https://developer.mozilla.org/en-US/docs/Web/XPath>"
   ]
  },
  {
   "cell_type": "markdown",
   "metadata": {
    "slideshow": {
     "slide_type": "subslide"
    }
   },
   "source": [
    "## How to specify a XPath\n",
    "\n",
    "<https://www.w3schools.com/xml/xpath_syntax.asp>"
   ]
  },
  {
   "cell_type": "code",
   "execution_count": 13,
   "metadata": {
    "slideshow": {
     "slide_type": "subslide"
    }
   },
   "outputs": [
    {
     "name": "stdout",
     "output_type": "stream",
     "text": [
      "['大台', '大信', '大敦', '中廣', '仁安', '仕吉', '台科一', '永康', '禾光', '立仁', '光忠', '吉孝', '吉忠', '合旺', '合維', '安居', '安松', '佑安', '技安', '辛亥', '卓聯', '和平東', '和安', '和金', '和泰', '和樂', '延吉', '昇隆', '東門', '欣安和', '欣隆昌', '花市', '金信', '金華', '長星', '阿波羅', '信中', '信安', '信義', '信興', '建安', '建忠', '建南', '建綸', '恆安', '科技站', '科建', '科興', '師大', '泰利', '國館', '崇光', '康福', '教育大學', '統合', '統家', '統領', '通化', '頂好', '頂安', '頂東', '喜悅', '富陽', '復忠', '復昌', '復維', '敦仁', '敦禾', '敦安', '敦信', '敦南', '敦頂', '敦隆', '敦維', '敦親', '森美', '華電', '愛國', '新北科', '新東帝', '新泰順', '新國聯', '溫州', '溫東', '瑞升', '瑞安', '義村', '誠安', '福亭', '鳳翔', '樂安', '樂利', '樂和', '樂隆', '黎元', '豫銘', '錢忠', '靜安', '龍和', '龍延', '龍門', '龍泉', '龍淵', '龍普', '濟南', '臨江', '臨通', '豐安', '懷生', '羅鑫', '麟光', '鑫忠孝', '鑫泰', '鑫通', '鑫富民', '鑫復']\n",
      "<class 'list'>\n",
      "116\n"
     ]
    }
   ],
   "source": [
    "# The XPath for POIName\n",
    "poinames = [e.text for e in root.findall('.//POIName')]\n",
    "print(poinames)\n",
    "print(type(poinames))\n",
    "print(len(poinames))"
   ]
  },
  {
   "cell_type": "code",
   "execution_count": 14,
   "metadata": {
    "slideshow": {
     "slide_type": "subslide"
    }
   },
   "outputs": [
    {
     "name": "stdout",
     "output_type": "stream",
     "text": [
      "['台北市大安區羅斯福路三段333巷18號1樓20號1樓(部分)', '台北市大安區信義路三段33號', '台北市大安區敦化南路二段63巷7號1樓', '台北市大安區仁愛路三段25-1號27號', '台北市大安區仁愛路四段27巷1號', '台北市大安區忠孝東路四段223巷42號', '台北市大安區基隆路四段43號1樓', '台北市大安區永康街43號', '台北市大安區和平東路二段63號1樓', '台北市大安區安和路二段74巷1號', '台北市大安區復興南路一段107巷5弄1號1樓', '台北市大安區忠孝東路四段299號', '台北市大安區延吉街72號', '台北市大安區復興南路二段151巷41號', '台北市大安區四維路170巷8號1樓', '台北市大安區安居街33號', '台北市大安區安東街50之2號50之3號50之4號', '台北市大安區忠孝東路三段217巷1弄2號', '台北市大安區和平東路三段97號97之1號1樓', '台北市大安區辛亥路二段57號', '台北市大安區羅斯福路四段1號1樓卓聯大樓', '台北市大安區和平東路一段129之1號', '台北市大安區和平東路三段230號', '台北市大安區和平東路一段91號', '台北市大安區和平東路一段169號', '台北市大安區和平東路三段228巷45號1樓', '台北市大安區延吉街237號', '台北市大安區敦化南路二段238號', '台北市大安區信義路二段198巷6號1樓', '台北市大安區安和路一段47號', '台北市大安區基隆路二段142之1號及142之2號', '台北市大安區建國南路一段274號', '台北市大安區金山南路二段18號1樓', '台北市大安區金華街140號1樓', '台北市大安區基隆路三段85號', '台北市大安區忠孝東路四段222號224號1樓', '台北市大安區信義路三段101號', '台北市大安區大安路一段218號', '台北市大安區信義路四段265巷12弄1號', '台北市大安區信義路四段32號', '台北市大安區敦化南路一段187巷29號', '台北市大安區忠孝東路三段249號', '台北市大安區建國南路二段151巷6之8號', '台北市大安區仁愛路四段151巷33號忠孝東路四段216巷32弄19號21號', '台北市大安區永康街2巷12號1樓', '台北市大安區復興南路二段203號', '台北市大安區建國南路一段28號30號', '台北市大安區復興南路二段271巷2號1樓', '台北市大安區師大路87號', '台北市大安區仁愛路四段266巷15弄22號', '台北市大安區光復南路240巷25號', '台北市大安區復興南路一段135巷5號', '台北市大安區永康街12之2號1樓', '台北市大安區敦南街38號', '台北市大安區忠孝東路四段181巷7弄11之1號11之2號', '台北市大安區忠孝東路四段216巷27弄1號1樓', '台北市大安區忠孝東路四段205巷7弄5號1樓', '台北市大安區通化街26之8號', '台北市大安區仁愛路四段79號1號', '台北市大安區大安路一段67號1樓', '台北市大安區大安路一段43號', '台北市大安區復興南路二段82-1及82-2號', '台北市大安區和平東路三段298號300號1樓', '台北市大安區光復南路98之3號98之5號', '台北市大安區通化里光復南路616號', '台北市大安區復興南路二段17號', '台北市大安區忠孝東路四段148號部份', '台北市大安區敦化南路二段265巷6號1樓', '台北市大安區安和路一段86號', '台北市大安區仁愛路四段122巷50號1樓', '台北市大安區敦化南路一段236巷13號', '台北市大安區忠孝東路四段101巷7號', '台北市大安區敦化南路二段182號', '台北市大安區東豐街43號45號1樓', '台北市大安區辛亥路二段171巷8號', '台北市大安區信義路三段65號1樓', '台北市大安區通化街177號', '台北市大安區愛國東路75號', '台北市大安區新生南路一段3號B1樓', '台北市大安區敦化南路二段99號1樓', '台北市大安區泰順街13號', '台北市大安區光復南路180巷12號', '台北市大安區羅斯福路三段245號', '台北市大安區和平東路一段266號', '台北市大安區杭州南路二段91號', '台北市大安區瑞安街182號', '台北市大安區忠孝東路三段160號', '台北市大安區敦化南路一段247巷12號1樓', '台北市大安區羅斯福路二段31號1樓', '台北市大安區忠孝東路四段216巷68號', '台北市大安區樂業街71號73號', '台北市大安區樂利路76號78號1樓', '台北市大安區樂利路29號29-1號', '台北市大安區敦化南路二段331巷14號', '台北市大安區臥龍街188巷1號', '台北市大安區大安路二段102號', '台北市大安區忠孝東路四段26巷5號', '台北市大安區光復南路262號', '台北市大安區和平東路二段197號199號1樓', '台北市大安區師大路59巷13號', '台北市大安區和平東路二段38之1號40號1樓', '台北市大安區羅斯福路三段193號1樓', '台北市大安區和平東路二段118巷33號', '台北市大安區敦化南路一段233巷25號', '台北市大安區濟南路三段12號1樓', '台北市大安區安和路二段67號', '台北市大安區通安街64號1樓', '台北市大安區東豐街9號', '台北市大安區忠孝東路三段248巷9號', '台北市大安區羅斯福路三段29號31號1樓', '台北市大安區臥龍街252號及252-1號', '台北市大安區忠孝東路四段313號1樓', '台北市大安區古風里泰順街64號1樓', '台北市大安區信義路四段294巷7號1樓', '台北市大安區忠孝東路四段181巷40弄22號1樓', '台北市大安區信義路三段178號1樓']\n"
     ]
    }
   ],
   "source": [
    "# The XPath for Address\n",
    "addresses = [e.text for e in root.findall('.//Address')]\n",
    "print(addresses)"
   ]
  },
  {
   "cell_type": "code",
   "execution_count": 15,
   "metadata": {
    "slideshow": {
     "slide_type": "subslide"
    }
   },
   "outputs": [
    {
     "name": "stdout",
     "output_type": "stream",
     "text": [
      "['02廁所,03ATM,04座位區,05ibon WiFi,09霜淇淋,12外送咖啡服務,19ibon,22現蒸地瓜,31博客來,33日本7-ELEVEN限定,34國際精品專櫃,36精品咖啡,37天素地蔬,38嚴選素材冷凍鮮物,66冷凍交貨便', '02廁所,03ATM,04座位區,05ibon WiFi,13台塑有機蔬菜,15Mister Donut甜甜圈,16美妝,19ibon,22現蒸地瓜,24統一生機,33日本7-ELEVEN限定,34國際精品專櫃,36精品咖啡,66冷凍交貨便', '03ATM,04座位區,05ibon WiFi,12外送咖啡服務,19ibon,22現蒸地瓜,24統一生機,31博客來,33日本7-ELEVEN限定,34國際精品專櫃,36精品咖啡,66冷凍交貨便', '03ATM,04座位區,05ibon WiFi,13台塑有機蔬菜,19ibon,33日本7-ELEVEN限定,34國際精品專櫃,36精品咖啡,66冷凍交貨便', '02廁所,03ATM,04座位區,05ibon WiFi,07OPEN! STORE,11千禧血壓站,12外送咖啡服務,19ibon,22現蒸地瓜,24統一生機,25OPEN!兒童閱覽室,33日本7-ELEVEN限定,34國際精品專櫃,36精品咖啡,66冷凍交貨便', '03ATM,04座位區,05ibon WiFi,12外送咖啡服務,19ibon,22現蒸地瓜,33日本7-ELEVEN限定,34國際精品專櫃,36精品咖啡,66冷凍交貨便', '03ATM,04座位區,09霜淇淋,12外送咖啡服務,15Mister Donut甜甜圈,19ibon,22現蒸地瓜,33日本7-ELEVEN限定,34國際精品專櫃,37天素地蔬,66冷凍交貨便', '03ATM,05ibon WiFi,12外送咖啡服務,19ibon,33日本7-ELEVEN限定,36精品咖啡', '03ATM,05ibon WiFi,19ibon,22現蒸地瓜,33日本7-ELEVEN限定,34國際精品專櫃,36精品咖啡,66冷凍交貨便', '03ATM,05ibon WiFi,12外送咖啡服務,19ibon,33日本7-ELEVEN限定,66冷凍交貨便', '03ATM,04座位區,22現蒸地瓜,33日本7-ELEVEN限定,34國際精品專櫃,66冷凍交貨便', '03ATM,04座位區,07OPEN! STORE,08寵物生活專區,19ibon,21現萃茶,22現蒸地瓜,31博客來,34國際精品專櫃,36精品咖啡,39光合帕尼尼,66冷凍交貨便', '02廁所,03ATM,04座位區,05ibon WiFi,12外送咖啡服務,19ibon,22現蒸地瓜,24統一生機,33日本7-ELEVEN限定,34國際精品專櫃,36精品咖啡,39光合帕尼尼,66冷凍交貨便', '03ATM,04座位區,05ibon WiFi,19ibon,24統一生機,33日本7-ELEVEN限定,34國際精品專櫃,36精品咖啡,66冷凍交貨便', '02廁所,03ATM,04座位區,05ibon WiFi,12外送咖啡服務,13台塑有機蔬菜,19ibon,22現蒸地瓜,24統一生機,33日本7-ELEVEN限定,34國際精品專櫃,36精品咖啡,37天素地蔬,39光合帕尼尼,66冷凍交貨便', '02廁所,03ATM,04座位區,05ibon WiFi,13台塑有機蔬菜,19ibon,21現萃茶,22現蒸地瓜,24統一生機,31博客來,33日本7-ELEVEN限定,34國際精品專櫃,36精品咖啡,37天素地蔬,66冷凍交貨便', '02廁所,03ATM,04座位區,08寵物生活專區,13台塑有機蔬菜,19ibon,22現蒸地瓜,33日本7-ELEVEN限定,34國際精品專櫃,36精品咖啡,66冷凍交貨便', '02廁所,03ATM,04座位區,05ibon WiFi,12外送咖啡服務,13台塑有機蔬菜,19ibon,21現萃茶,22現蒸地瓜,24統一生機,33日本7-ELEVEN限定,34國際精品專櫃,36精品咖啡,66冷凍交貨便', '02廁所,03ATM,04座位區,05ibon WiFi,08寵物生活專區,12外送咖啡服務,13台塑有機蔬菜,19ibon,21現萃茶,22現蒸地瓜,24統一生機,31博客來,33日本7-ELEVEN限定,34國際精品專櫃,36精品咖啡,66冷凍交貨便', '03ATM,04座位區,05ibon WiFi,12外送咖啡服務,19ibon,22現蒸地瓜,33日本7-ELEVEN限定,34國際精品專櫃,36精品咖啡,66冷凍交貨便', '03ATM,19ibon,21現萃茶,22現蒸地瓜,34國際精品專櫃,37天素地蔬,66冷凍交貨便', '03ATM,15Mister Donut甜甜圈,19ibon,21現萃茶,22現蒸地瓜,34國際精品專櫃,36精品咖啡,37天素地蔬,39光合帕尼尼,66冷凍交貨便', '02廁所,03ATM,04座位區,05ibon WiFi,19ibon,21現萃茶,22現蒸地瓜,33日本7-ELEVEN限定,34國際精品專櫃,36精品咖啡,39光合帕尼尼,66冷凍交貨便', '03ATM,04座位區,05ibon WiFi,12外送咖啡服務,19ibon,21現萃茶,22現蒸地瓜,33日本7-ELEVEN限定,34國際精品專櫃,36精品咖啡,39光合帕尼尼,66冷凍交貨便', '03ATM,05ibon WiFi,12外送咖啡服務,19ibon,21現萃茶,33日本7-ELEVEN限定,34國際精品專櫃,36精品咖啡,66冷凍交貨便', '02廁所,03ATM,04座位區,19ibon,22現蒸地瓜,34國際精品專櫃,36精品咖啡,66冷凍交貨便', '03ATM,04座位區,05ibon WiFi,19ibon,33日本7-ELEVEN限定,34國際精品專櫃,36精品咖啡,66冷凍交貨便', '02廁所,03ATM,05ibon WiFi,19ibon,33日本7-ELEVEN限定,34國際精品專櫃,36精品咖啡,66冷凍交貨便', '03ATM,04座位區,19ibon,22現蒸地瓜,24統一生機,33日本7-ELEVEN限定,34國際精品專櫃,36精品咖啡,66冷凍交貨便', '03ATM,05ibon WiFi,12外送咖啡服務,19ibon,22現蒸地瓜,33日本7-ELEVEN限定,36精品咖啡,66冷凍交貨便', '03ATM,04座位區,05ibon WiFi,19ibon,22現蒸地瓜,24統一生機,33日本7-ELEVEN限定,34國際精品專櫃,36精品咖啡,66冷凍交貨便', '03ATM,05ibon WiFi,16美妝,19ibon,22現蒸地瓜,33日本7-ELEVEN限定,66冷凍交貨便', '02廁所,03ATM,04座位區,05ibon WiFi,11千禧血壓站,12外送咖啡服務,19ibon,21現萃茶,22現蒸地瓜,24統一生機,25OPEN!兒童閱覽室,31博客來,33日本7-ELEVEN限定,34國際精品專櫃,36精品咖啡,37天素地蔬,39光合帕尼尼,66冷凍交貨便', '03ATM,05ibon WiFi,12外送咖啡服務,19ibon,24統一生機,33日本7-ELEVEN限定,34國際精品專櫃,66冷凍交貨便', '03ATM,04座位區,05ibon WiFi,12外送咖啡服務,19ibon,21現萃茶,22現蒸地瓜,29烘培坊,32糖果屋,33日本7-ELEVEN限定,34國際精品專櫃,37天素地蔬,39光合帕尼尼,66冷凍交貨便', '03ATM,19ibon,21現萃茶,22現蒸地瓜,31博客來,34國際精品專櫃,36精品咖啡,66冷凍交貨便', '03ATM,04座位區,05ibon WiFi,12外送咖啡服務,15Mister Donut甜甜圈,19ibon,22現蒸地瓜,33日本7-ELEVEN限定,34國際精品專櫃,36精品咖啡,37天素地蔬,39光合帕尼尼,66冷凍交貨便', '03ATM,04座位區,05ibon WiFi,19ibon,33日本7-ELEVEN限定,34國際精品專櫃,36精品咖啡,66冷凍交貨便', '03ATM,04座位區,05ibon WiFi,12外送咖啡服務,16美妝,19ibon,22現蒸地瓜,33日本7-ELEVEN限定,34國際精品專櫃,66冷凍交貨便', '03ATM,05ibon WiFi,12外送咖啡服務,19ibon,21現萃茶,22現蒸地瓜,33日本7-ELEVEN限定,34國際精品專櫃', '03ATM,04座位區,05ibon WiFi,12外送咖啡服務,19ibon,22現蒸地瓜,33日本7-ELEVEN限定,34國際精品專櫃,36精品咖啡,66冷凍交貨便', '02廁所,03ATM,04座位區,05ibon WiFi,08寵物生活專區,12外送咖啡服務,19ibon,22現蒸地瓜,25OPEN!兒童閱覽室,33日本7-ELEVEN限定,34國際精品專櫃,36精品咖啡,66冷凍交貨便', '03ATM,04座位區,05ibon WiFi,12外送咖啡服務,19ibon,33日本7-ELEVEN限定,34國際精品專櫃,36精品咖啡,37天素地蔬,66冷凍交貨便', '03ATM,04座位區,19ibon,21現萃茶,22現蒸地瓜,34國際精品專櫃,66冷凍交貨便', '03ATM,05ibon WiFi,12外送咖啡服務,19ibon,22現蒸地瓜,24統一生機,33日本7-ELEVEN限定,34國際精品專櫃,36精品咖啡', '02廁所,03ATM,05ibon WiFi,12外送咖啡服務,19ibon,21現萃茶,22現蒸地瓜,33日本7-ELEVEN限定,34國際精品專櫃,36精品咖啡,37天素地蔬,66冷凍交貨便', '03ATM,04座位區,05ibon WiFi,12外送咖啡服務,19ibon,33日本7-ELEVEN限定,34國際精品專櫃', '03ATM,04座位區,19ibon,22現蒸地瓜,34國際精品專櫃,36精品咖啡,37天素地蔬,66冷凍交貨便', '03ATM,04座位區,05ibon WiFi,12外送咖啡服務,19ibon,21現萃茶,22現蒸地瓜,33日本7-ELEVEN限定,34國際精品專櫃,37天素地蔬,39光合帕尼尼,66冷凍交貨便', '03ATM,05ibon WiFi,07OPEN! STORE,12外送咖啡服務,19ibon,21現萃茶,22現蒸地瓜,31博客來,33日本7-ELEVEN限定,34國際精品專櫃,36精品咖啡,37天素地蔬,66冷凍交貨便', '02廁所,03ATM,04座位區,05ibon WiFi,08寵物生活專區,12外送咖啡服務,15Mister Donut甜甜圈,19ibon,21現萃茶,22現蒸地瓜,33日本7-ELEVEN限定,34國際精品專櫃,36精品咖啡,66冷凍交貨便', '03ATM,05ibon WiFi,19ibon,22現蒸地瓜,33日本7-ELEVEN限定,34國際精品專櫃,37天素地蔬,66冷凍交貨便', '03ATM,19ibon,22現蒸地瓜,34國際精品專櫃,36精品咖啡,66冷凍交貨便', '03ATM,05ibon WiFi,12外送咖啡服務,13台塑有機蔬菜,19ibon,22現蒸地瓜,33日本7-ELEVEN限定,34國際精品專櫃,39光合帕尼尼,66冷凍交貨便', '03ATM,04座位區,19ibon,22現蒸地瓜,34國際精品專櫃,36精品咖啡,39光合帕尼尼,66冷凍交貨便', '02廁所,03ATM,04座位區,05ibon WiFi,12外送咖啡服務,13台塑有機蔬菜,16美妝,19ibon,22現蒸地瓜,24統一生機,33日本7-ELEVEN限定,34國際精品專櫃,36精品咖啡,66冷凍交貨便', '01停車場,03ATM,04座位區,05ibon WiFi,19ibon,20現打啤酒,22現蒸地瓜,33日本7-ELEVEN限定,34國際精品專櫃,36精品咖啡,66冷凍交貨便', '03ATM,04座位區,05ibon WiFi,19ibon,22現蒸地瓜,33日本7-ELEVEN限定,34國際精品專櫃,36精品咖啡,66冷凍交貨便', '05ibon WiFi,12外送咖啡服務,19ibon,22現蒸地瓜,33日本7-ELEVEN限定,34國際精品專櫃,36精品咖啡', '02廁所,03ATM,04座位區,19ibon,22現蒸地瓜,33日本7-ELEVEN限定,34國際精品專櫃,36精品咖啡,37天素地蔬,39光合帕尼尼,66冷凍交貨便', '03ATM,04座位區,05ibon WiFi,12外送咖啡服務,19ibon,33日本7-ELEVEN限定,34國際精品專櫃,36精品咖啡,66冷凍交貨便', '02廁所,03ATM,04座位區,05ibon WiFi,12外送咖啡服務,13台塑有機蔬菜,15Mister Donut甜甜圈,19ibon,22現蒸地瓜,24統一生機,33日本7-ELEVEN限定,34國際精品專櫃,36精品咖啡,39光合帕尼尼,66冷凍交貨便', '03ATM,04座位區,05ibon WiFi,08寵物生活專區,12外送咖啡服務,13台塑有機蔬菜,19ibon,22現蒸地瓜,24統一生機,33日本7-ELEVEN限定,34國際精品專櫃,36精品咖啡,66冷凍交貨便', '03ATM,19ibon,21現萃茶,33日本7-ELEVEN限定,34國際精品專櫃,36精品咖啡,66冷凍交貨便', '03ATM,04座位區,05ibon WiFi,13台塑有機蔬菜,16美妝,19ibon,21現萃茶,22現蒸地瓜,24統一生機,33日本7-ELEVEN限定,34國際精品專櫃,36精品咖啡,37天素地蔬,39光合帕尼尼,66冷凍交貨便', '03ATM,05ibon WiFi,12外送咖啡服務,19ibon,21現萃茶,22現蒸地瓜,33日本7-ELEVEN限定,36精品咖啡,66冷凍交貨便', '03ATM,19ibon,21現萃茶,22現蒸地瓜,66冷凍交貨便', '02廁所,03ATM,04座位區,05ibon WiFi,07OPEN! STORE,12外送咖啡服務,19ibon,21現萃茶,22現蒸地瓜,24統一生機,33日本7-ELEVEN限定,34國際精品專櫃,36精品咖啡,66冷凍交貨便', '03ATM,04座位區,05ibon WiFi,12外送咖啡服務,19ibon,22現蒸地瓜,33日本7-ELEVEN限定,34國際精品專櫃,36精品咖啡,66冷凍交貨便', '02廁所,03ATM,04座位區,05ibon WiFi,09霜淇淋,19ibon,22現蒸地瓜,33日本7-ELEVEN限定,34國際精品專櫃,36精品咖啡,66冷凍交貨便', '03ATM,05ibon WiFi,12外送咖啡服務,19ibon,22現蒸地瓜,33日本7-ELEVEN限定,34國際精品專櫃,39光合帕尼尼,66冷凍交貨便', '05ibon WiFi,12外送咖啡服務,19ibon,33日本7-ELEVEN限定,34國際精品專櫃,36精品咖啡,66冷凍交貨便', '03ATM,04座位區,05ibon WiFi,07OPEN! STORE,12外送咖啡服務,19ibon,21現萃茶,22現蒸地瓜,24統一生機,33日本7-ELEVEN限定,34國際精品專櫃,36精品咖啡,37天素地蔬,66冷凍交貨便', '02廁所,03ATM,04座位區,05ibon WiFi,08寵物生活專區,12外送咖啡服務,13台塑有機蔬菜,19ibon,22現蒸地瓜,33日本7-ELEVEN限定,34國際精品專櫃,36精品咖啡,66冷凍交貨便', '02廁所,03ATM,04座位區,05ibon WiFi,12外送咖啡服務,13台塑有機蔬菜,19ibon,21現萃茶,22現蒸地瓜,33日本7-ELEVEN限定,34國際精品專櫃,36精品咖啡,37天素地蔬,66冷凍交貨便', '02廁所,03ATM,04座位區,19ibon,21現萃茶,22現蒸地瓜,34國際精品專櫃,36精品咖啡,66冷凍交貨便', '02廁所,03ATM,04座位區,05ibon WiFi,12外送咖啡服務,16美妝,19ibon,22現蒸地瓜,33日本7-ELEVEN限定,34國際精品專櫃,36精品咖啡,66冷凍交貨便', '02廁所,03ATM,04座位區,19ibon,22現蒸地瓜,34國際精品專櫃,36精品咖啡,66冷凍交貨便', '03ATM,15Mister Donut甜甜圈,19ibon,21現萃茶,22現蒸地瓜,33日本7-ELEVEN限定,34國際精品專櫃,36精品咖啡,39光合帕尼尼,66冷凍交貨便', '03ATM,04座位區,05ibon WiFi,12外送咖啡服務,19ibon,22現蒸地瓜,24統一生機,33日本7-ELEVEN限定,34國際精品專櫃,36精品咖啡,66冷凍交貨便,68CITY CAFE氮氣飲品', '03ATM,05ibon WiFi,12外送咖啡服務,19ibon,22現蒸地瓜,33日本7-ELEVEN限定,34國際精品專櫃,36精品咖啡,66冷凍交貨便', '02廁所,03ATM,04座位區,05ibon WiFi,12外送咖啡服務,16美妝,19ibon,21現萃茶,22現蒸地瓜,33日本7-ELEVEN限定,34國際精品專櫃,36精品咖啡,39光合帕尼尼,66冷凍交貨便', '03ATM,04座位區,05ibon WiFi,12外送咖啡服務,13台塑有機蔬菜,19ibon,21現萃茶,22現蒸地瓜,33日本7-ELEVEN限定,34國際精品專櫃,36精品咖啡,37天素地蔬,66冷凍交貨便', '03ATM,04座位區,05ibon WiFi,12外送咖啡服務,19ibon,21現萃茶,22現蒸地瓜,33日本7-ELEVEN限定,34國際精品專櫃,36精品咖啡,37天素地蔬,39光合帕尼尼,66冷凍交貨便', '03ATM,04座位區,05ibon WiFi,12外送咖啡服務,19ibon,21現萃茶,22現蒸地瓜,33日本7-ELEVEN限定,36精品咖啡', '03ATM,04座位區,05ibon WiFi,12外送咖啡服務,19ibon,22現蒸地瓜,33日本7-ELEVEN限定,34國際精品專櫃,36精品咖啡,66冷凍交貨便', '03ATM,05ibon WiFi,19ibon,33日本7-ELEVEN限定,34國際精品專櫃,36精品咖啡,66冷凍交貨便', '02廁所,03ATM,04座位區,12外送咖啡服務,19ibon,21現萃茶,22現蒸地瓜,24統一生機,33日本7-ELEVEN限定,34國際精品專櫃,36精品咖啡,39光合帕尼尼,66冷凍交貨便', '03ATM,19ibon,22現蒸地瓜,34國際精品專櫃,36精品咖啡,37天素地蔬,66冷凍交貨便', '02廁所,04座位區,05ibon WiFi,12外送咖啡服務,19ibon,33日本7-ELEVEN限定,36精品咖啡,66冷凍交貨便', '03ATM,04座位區,05ibon WiFi,12外送咖啡服務,13台塑有機蔬菜,19ibon,22現蒸地瓜,24統一生機,33日本7-ELEVEN限定,34國際精品專櫃,36精品咖啡,66冷凍交貨便', '02廁所,03ATM,04座位區,05ibon WiFi,19ibon,22現蒸地瓜,24統一生機,33日本7-ELEVEN限定,34國際精品專櫃,36精品咖啡,66冷凍交貨便', '02廁所,03ATM,04座位區,05ibon WiFi,12外送咖啡服務,19ibon,33日本7-ELEVEN限定,34國際精品專櫃,36精品咖啡,66冷凍交貨便,68CITY CAFE氮氣飲品', '03ATM,04座位區,05ibon WiFi,12外送咖啡服務,19ibon,21現萃茶,22現蒸地瓜,24統一生機,33日本7-ELEVEN限定,34國際精品專櫃,36精品咖啡,66冷凍交貨便', '02廁所,03ATM,04座位區,05ibon WiFi,12外送咖啡服務,13台塑有機蔬菜,19ibon,21現萃茶,22現蒸地瓜,33日本7-ELEVEN限定,34國際精品專櫃,36精品咖啡,37天素地蔬,66冷凍交貨便', '02廁所,03ATM,04座位區,05ibon WiFi,12外送咖啡服務,19ibon,21現萃茶,24統一生機,33日本7-ELEVEN限定,34國際精品專櫃,36精品咖啡,66冷凍交貨便', '03ATM,05ibon WiFi,12外送咖啡服務,19ibon,33日本7-ELEVEN限定,34國際精品專櫃,66冷凍交貨便', '03ATM,04座位區,05ibon WiFi,12外送咖啡服務,19ibon,21現萃茶,22現蒸地瓜,33日本7-ELEVEN限定,36精品咖啡,66冷凍交貨便', '02廁所,03ATM,04座位區,19ibon,21現萃茶,22現蒸地瓜,34國際精品專櫃,36精品咖啡,37天素地蔬,66冷凍交貨便', '03ATM,04座位區,05ibon WiFi,12外送咖啡服務,19ibon,33日本7-ELEVEN限定,34國際精品專櫃', '02廁所,03ATM,04座位區,05ibon WiFi,12外送咖啡服務,19ibon,22現蒸地瓜,33日本7-ELEVEN限定,34國際精品專櫃,36精品咖啡,37天素地蔬,66冷凍交貨便', '03ATM,12外送咖啡服務,19ibon,22現蒸地瓜,33日本7-ELEVEN限定,34國際精品專櫃,36精品咖啡,66冷凍交貨便', '03ATM,04座位區,05ibon WiFi,12外送咖啡服務,19ibon,22現蒸地瓜,33日本7-ELEVEN限定,34國際精品專櫃,36精品咖啡,66冷凍交貨便', '03ATM,04座位區,05ibon WiFi,12外送咖啡服務,19ibon,22現蒸地瓜,33日本7-ELEVEN限定,34國際精品專櫃,36精品咖啡,66冷凍交貨便', '03ATM,04座位區,05ibon WiFi,12外送咖啡服務,13台塑有機蔬菜,19ibon,22現蒸地瓜,24統一生機,33日本7-ELEVEN限定,34國際精品專櫃,36精品咖啡,39光合帕尼尼,66冷凍交貨便', '03ATM,04座位區,05ibon WiFi,12外送咖啡服務,19ibon,33日本7-ELEVEN限定,34國際精品專櫃,36精品咖啡,66冷凍交貨便', '03ATM,19ibon,22現蒸地瓜,34國際精品專櫃,36精品咖啡,66冷凍交貨便', '03ATM,05ibon WiFi,12外送咖啡服務,19ibon,21現萃茶,22現蒸地瓜,33日本7-ELEVEN限定,34國際精品專櫃,36精品咖啡,39光合帕尼尼,66冷凍交貨便', '03ATM,05ibon WiFi,12外送咖啡服務,19ibon,33日本7-ELEVEN限定,36精品咖啡,66冷凍交貨便', '02廁所,03ATM,04座位區,19ibon,21現萃茶,22現蒸地瓜,31博客來,34國際精品專櫃,36精品咖啡,66冷凍交貨便', '02廁所,03ATM,04座位區,05ibon WiFi,08寵物生活專區,19ibon,21現萃茶,22現蒸地瓜,24統一生機,33日本7-ELEVEN限定,34國際精品專櫃,36精品咖啡,66冷凍交貨便', '02廁所,03ATM,04座位區,19ibon,21現萃茶,22現蒸地瓜,2821TOGO,33日本7-ELEVEN限定,34國際精品專櫃,36精品咖啡,37天素地蔬,39光合帕尼尼,66冷凍交貨便', '03ATM,04座位區,19ibon,33日本7-ELEVEN限定,34國際精品專櫃,36精品咖啡,66冷凍交貨便', '03ATM,19ibon,22現蒸地瓜,33日本7-ELEVEN限定,34國際精品專櫃,66冷凍交貨便', '02廁所,03ATM,04座位區,19ibon,22現蒸地瓜,33日本7-ELEVEN限定,34國際精品專櫃,36精品咖啡,39光合帕尼尼,66冷凍交貨便', '03ATM,19ibon,22現蒸地瓜,33日本7-ELEVEN限定,34國際精品專櫃,36精品咖啡,39光合帕尼尼,66冷凍交貨便']\n"
     ]
    }
   ],
   "source": [
    "# The XPath for StoreImageTitles\n",
    "store_image_titles = [e.text for e in root.findall('.//StoreImageTitle')]\n",
    "print(store_image_titles)"
   ]
  },
  {
   "cell_type": "code",
   "execution_count": 16,
   "metadata": {
    "slideshow": {
     "slide_type": "subslide"
    }
   },
   "outputs": [
    {
     "name": "stdout",
     "output_type": "stream",
     "text": [
      "大台:台北市大安區羅斯福路三段333巷18號1樓20號1樓(部分)\n",
      "台科一:台北市大安區基隆路四段43號1樓\n",
      "敦信:台北市大安區仁愛路四段122巷50號1樓\n"
     ]
    }
   ],
   "source": [
    "for poiname, address, store_image_title in zip(poinames, addresses, store_image_titles):\n",
    "    if \"霜淇淋\" in store_image_title:\n",
    "        print(f\"{poiname}:{address}\")"
   ]
  },
  {
   "cell_type": "markdown",
   "metadata": {
    "slideshow": {
     "slide_type": "slide"
    }
   },
   "source": [
    "## HTML format"
   ]
  },
  {
   "cell_type": "markdown",
   "metadata": {
    "slideshow": {
     "slide_type": "subslide"
    }
   },
   "source": [
    "## What is HTML?\n",
    "\n",
    "> HTML (HyperText Markup Language) is a descriptive language that specifies webpage structure. An HTML document is a plaintext document structured with elements. Elements are surrounded by matching opening and closing tags. Each tag begins and ends with angle brackets (<>).\n",
    "\n",
    "Source: <https://developer.mozilla.org/en-US/docs/Glossary/HTML>"
   ]
  },
  {
   "cell_type": "markdown",
   "metadata": {
    "slideshow": {
     "slide_type": "subslide"
    }
   },
   "source": [
    "## How to validate if a response belongs to HTML format?\n",
    "\n",
    "Looking into Response(body) and check if there is a HTML format being declared."
   ]
  },
  {
   "cell_type": "markdown",
   "metadata": {
    "slideshow": {
     "slide_type": "subslide"
    }
   },
   "source": [
    "## HTML exists as a string\n",
    "\n",
    "Predefined tags with a hierarchical tree layout."
   ]
  },
  {
   "cell_type": "markdown",
   "metadata": {
    "slideshow": {
     "slide_type": "subslide"
    }
   },
   "source": [
    "## Let's see how a HTML format looks like\n",
    "\n",
    "<https://www.imdb.com/chart/top>: Data still exists after turning JavaScript off, check **Doc**."
   ]
  },
  {
   "cell_type": "code",
   "execution_count": 17,
   "metadata": {},
   "outputs": [
    {
     "name": "stdout",
     "output_type": "stream",
     "text": [
      "544723\n"
     ]
    }
   ],
   "source": [
    "request_url = \"https://www.imdb.com/chart/top\"\n",
    "response = requests.get(request_url, headers={\"accept-language\": \"en-US,en;q=1.0\"})\n",
    "# print(response.text)\n",
    "print(len(response.text))"
   ]
  },
  {
   "cell_type": "markdown",
   "metadata": {
    "slideshow": {
     "slide_type": "subslide"
    }
   },
   "source": [
    "## Use the `BeautifulSoup` function from `bs4` to get the parsed structure"
   ]
  },
  {
   "cell_type": "code",
   "execution_count": 18,
   "metadata": {},
   "outputs": [
    {
     "name": "stdout",
     "output_type": "stream",
     "text": [
      "<class 'bs4.BeautifulSoup'>\n"
     ]
    }
   ],
   "source": [
    "soup = BeautifulSoup(response.text)\n",
    "print(type(soup))"
   ]
  },
  {
   "cell_type": "markdown",
   "metadata": {
    "slideshow": {
     "slide_type": "subslide"
    }
   },
   "source": [
    "## Use CSS Selector to extract data from specific tags\n",
    "\n",
    "> A CSS selector is the part of a CSS rule that describes what elements in a document the rule will match. The matching elements will have the rule's specified style applied to them.\n",
    "\n",
    "Source: <https://developer.mozilla.org/en-US/docs/Glossary/CSS_Selector>"
   ]
  },
  {
   "cell_type": "markdown",
   "metadata": {
    "slideshow": {
     "slide_type": "subslide"
    }
   },
   "source": [
    "## A CSS selector can be mixed and matched with\n",
    "\n",
    "1. Tag names.\n",
    "2. Class attribute in tags.\n",
    "3. Id attribute in tags."
   ]
  },
  {
   "cell_type": "markdown",
   "metadata": {
    "slideshow": {
     "slide_type": "subslide"
    }
   },
   "source": [
    "## How to specify a CSS selector\n",
    "\n",
    "<https://www.w3schools.com/cssref/css_selectors.asp>"
   ]
  },
  {
   "cell_type": "markdown",
   "metadata": {
    "slideshow": {
     "slide_type": "subslide"
    }
   },
   "source": [
    "## It is not easy to find CSS selector unless we are a seasoned front-end engineer\n",
    "\n",
    "A Chrome browser plug-in to help us find the specific CSS selector of element(s): <https://chrome.google.com/webstore/detail/selectorgadget/mhjhnkcfbdhnjickkkdbjoemdmbfginb>"
   ]
  },
  {
   "cell_type": "code",
   "execution_count": 24,
   "metadata": {
    "slideshow": {
     "slide_type": "subslide"
    }
   },
   "outputs": [
    {
     "name": "stdout",
     "output_type": "stream",
     "text": [
      "['The Shawshank Redemption', 'The Godfather', 'The Godfather: Part II', 'The Dark Knight', '12 Angry Men', \"Schindler's List\", 'The Lord of the Rings: The Return of the King', 'Pulp Fiction', 'The Good, the Bad and the Ugly', 'The Lord of the Rings: The Fellowship of the Ring', 'Fight Club', 'Forrest Gump', 'Inception', 'The Lord of the Rings: The Two Towers', 'Star Wars: Episode V - The Empire Strikes Back', 'Spider-Man: No Way Home', 'The Matrix', 'Goodfellas', \"One Flew Over the Cuckoo's Nest\", 'Seven Samurai', 'Se7en', 'The Silence of the Lambs', \"It's a Wonderful Life\", 'City of God', 'Life Is Beautiful', 'Saving Private Ryan', 'Star Wars: Episode IV - A New Hope', 'Interstellar', 'Spirited Away', 'The Green Mile', 'Parasite', 'Léon: The Professional', 'Hara-Kiri', 'The Pianist', 'Terminator 2: Judgment Day', 'Back to the Future', 'The Usual Suspects', 'Psycho', 'The Lion King', 'Modern Times', 'Grave of the Fireflies', 'American History X', 'Whiplash', 'Gladiator', 'City Lights', 'The Departed', 'The Intouchables', 'The Prestige', 'Casablanca', 'Once Upon a Time in the West', 'Rear Window', 'Cinema Paradiso', 'Alien', 'Apocalypse Now', 'Memento', 'Indiana Jones and the Raiders of the Lost Ark', 'The Great Dictator', 'Django Unchained', 'The Lives of Others', 'Paths of Glory', 'Sunset Blvd.', 'WALL·E', 'Avengers: Infinity War', 'Witness for the Prosecution', 'The Shining', 'Spider-Man: Into the Spider-Verse', 'Dr. Strangelove or: How I Learned to Stop Worrying and Love the Bomb', 'Princess Mononoke', 'Oldboy', 'Joker', 'Your Name.', 'Coco', 'The Dark Knight Rises', 'Aliens', 'Once Upon a Time in America', 'Avengers: Endgame', 'Capernaum', 'Das Boot', 'High and Low', '3 Idiots', 'Toy Story', 'Amadeus', 'American Beauty', 'Braveheart', 'Inglourious Basterds', 'Hamilton', 'Good Will Hunting', 'Star Wars: Episode VI - Return of the Jedi', '2001: A Space Odyssey', 'Come and See', 'Reservoir Dogs', 'Like Stars on Earth', 'Vertigo', 'M', 'Citizen Kane', 'The Hunt', 'Requiem for a Dream', \"Singin' in the Rain\", 'North by Northwest', 'Eternal Sunshine of the Spotless Mind', 'Ikiru', 'Bicycle Thieves', 'Lawrence of Arabia', 'The Kid', 'Full Metal Jacket', 'Dangal', 'The Apartment', 'Incendies', 'The Father', 'Double Indemnity', 'Metropolis', 'Taxi Driver', 'A Clockwork Orange', 'A Separation', 'The Sting', 'Scarface', 'Snatch', 'Amélie', '1917', 'Pather Panchali', 'To Kill a Mockingbird', 'Toy Story 3', 'For a Few Dollars More', 'Up', 'Indiana Jones and the Last Crusade', 'Heat', 'L.A. Confidential', 'Yojimbo', 'Ran', 'Die Hard', 'Green Book', 'Rashomon', 'Downfall', 'Monty Python and the Holy Grail', 'All About Eve', 'Some Like It Hot', 'Batman Begins', 'Unforgiven', 'Children of Heaven', 'Jai Bhim', \"Howl's Moving Castle\", 'The Wolf of Wall Street', 'Judgment at Nuremberg', 'There Will Be Blood', 'The Great Escape', 'Casino', 'The Treasure of the Sierra Madre', \"Pan's Labyrinth\", 'A Beautiful Mind', 'The Secret in Their Eyes', 'Raging Bull', 'Chinatown', 'My Neighbor Totoro', 'Dersu Uzala', 'Shutter Island', 'Lock, Stock and Two Smoking Barrels', 'No Country for Old Men', 'Dial M for Murder', 'The Gold Rush', 'Klaus', 'The Thing', 'Three Billboards Outside Ebbing, Missouri', 'The Seventh Seal', 'The Elephant Man', 'The Sixth Sense', 'The Truman Show', 'Jurassic Park', 'Wild Strawberries', 'The Third Man', 'Memories of Murder', 'V for Vendetta', 'Blade Runner', 'Trainspotting', 'Inside Out', 'The Bridge on the River Kwai', 'Fargo', 'Finding Nemo', 'Warrior', 'Kill Bill: Vol. 1', 'Gone with the Wind', 'Tokyo Story', 'On the Waterfront', 'My Father and My Son', 'Dune', 'Wild Tales', 'Stalker', 'Prisoners', 'The Deer Hunter', 'The Grand Budapest Hotel', 'The General', 'Sherlock Jr.', 'Persona', 'Gran Torino', 'Z', 'Before Sunrise', 'Mary and Max', 'Catch Me If You Can', 'Mr. Smith Goes to Washington', 'In the Name of the Father', 'Barry Lyndon', 'Gone Girl', 'Room', 'Hacksaw Ridge', 'The Passion of Joan of Arc', 'Andhadhun', 'Ford v Ferrari', '12 Years a Slave', 'To Be or Not to Be', 'The Big Lebowski', 'Dead Poets Society', 'How to Train Your Dragon', 'Ben-Hur', 'Mad Max: Fury Road', 'Autumn Sonata', 'Harry Potter and the Deathly Hallows: Part 2', 'Million Dollar Baby', 'The Handmaiden', 'The Wages of Fear', 'Stand by Me', 'Network', 'Logan', 'La Haine', 'Cool Hand Luke', \"Hachi: A Dog's Tale\", 'A Silent Voice: The Movie', 'The 400 Blows', 'Gangs of Wasseypur', 'Platoon', 'Spotlight', 'Monsters, Inc.', 'Rebecca', 'Life of Brian', 'In the Mood for Love', 'Hotel Rwanda', 'The Bandit', 'Rush', 'Into the Wild', 'Rocky', 'Amores perros', 'Nausicaä of the Valley of the Wind', 'It Happened One Night', 'Fanny and Alexander', 'Before Sunset', 'Andrei Rublev', 'Neon Genesis Evangelion: The End of Evangelion', 'The Battle of Algiers', 'Nights of Cabiria', 'The Princess Bride', 'Paris, Texas', 'Demon Slayer: Mugen Train']\n"
     ]
    }
   ],
   "source": [
    "soup.select('.titleColumn a')\n",
    "len(soup.select('.titleColumn a'))\n",
    "\n",
    "titles = [e.text for e in soup.select('.titleColumn a')] # The CSS Selector for titles\n",
    "print(titles)"
   ]
  },
  {
   "cell_type": "code",
   "execution_count": 20,
   "metadata": {
    "slideshow": {
     "slide_type": "subslide"
    }
   },
   "outputs": [],
   "source": [
    "# soup.select('strong')\n",
    "# len(soup.select('strong'))\n",
    "\n",
    "# number_of_user_rating = [int(e.get(\"title\").split()[3].replace(',','')) for e in soup.select('strong')]  \n",
    "# number_of_user_rating\n",
    "\n",
    "# ratings = [float(e.text) for e in soup.select('strong')] # The CSS Selector for ratings\n",
    "# print(ratings)"
   ]
  },
  {
   "cell_type": "code",
   "execution_count": 21,
   "metadata": {
    "slideshow": {
     "slide_type": "subslide"
    }
   },
   "outputs": [
    {
     "name": "stdout",
     "output_type": "stream",
     "text": [
      "[1994, 1972, 1974, 2008, 1957, 1993, 2003, 1994, 1966, 2001, 1999, 1994, 2010, 2002, 1980, 2021, 1999, 1990, 1975, 1954, 1995, 1991, 1946, 2002, 1997, 1998, 1977, 2014, 2001, 1999, 2019, 1994, 1962, 2002, 1991, 1985, 1995, 1960, 1994, 1936, 1988, 1998, 2014, 2000, 1931, 2006, 2011, 2006, 1942, 1968, 1954, 1988, 1979, 1979, 2000, 1981, 1940, 2012, 2006, 1957, 1950, 2008, 2018, 1957, 1980, 2018, 1964, 1997, 2003, 2019, 2016, 2017, 2012, 1986, 1984, 2019, 2018, 1981, 1963, 2009, 1995, 1984, 1999, 1995, 2009, 2020, 1997, 1983, 1968, 1985, 1992, 2007, 1958, 1931, 1941, 2012, 2000, 1952, 1959, 2004, 1952, 1948, 1962, 1921, 1987, 2016, 1960, 2010, 2020, 1944, 1927, 1976, 1971, 2011, 1973, 1983, 2000, 2001, 2019, 1955, 1962, 2010, 1965, 2009, 1989, 1995, 1997, 1961, 1985, 1988, 2018, 1950, 2004, 1975, 1950, 1959, 2005, 1992, 1997, 2021, 2004, 2013, 1961, 2007, 1963, 1995, 1948, 2006, 2001, 2009, 1980, 1974, 1988, 1975, 2010, 1998, 2007, 1954, 1925, 2019, 1982, 2017, 1957, 1980, 1999, 1998, 1993, 1957, 1949, 2003, 2005, 1982, 1996, 2015, 1957, 1996, 2003, 2011, 2003, 1939, 1953, 1954, 2005, 2021, 2014, 1979, 2013, 1978, 2014, 1926, 1924, 1966, 2008, 1969, 1995, 2009, 2002, 1939, 1993, 1975, 2014, 2015, 2016, 1928, 2018, 2019, 2013, 1942, 1998, 1989, 2010, 1959, 2015, 1978, 2011, 2004, 2016, 1953, 1986, 1976, 2017, 1995, 1967, 2009, 2016, 1959, 2012, 1986, 2015, 2001, 1940, 1979, 2000, 2004, 1996, 2013, 2007, 1976, 2000, 1984, 1934, 1982, 2004, 1966, 1997, 1966, 1957, 1987, 1984, 2020]\n"
     ]
    }
   ],
   "source": [
    "release_years = [int(re.sub(\"\\(|\\)\", \"\", e.text)) for e in soup.select('span.secondaryInfo')] # The CSS Selector for release years\n",
    "print(release_years)"
   ]
  },
  {
   "cell_type": "code",
   "execution_count": 22,
   "metadata": {
    "slideshow": {
     "slide_type": "subslide"
    }
   },
   "outputs": [
    {
     "data": {
      "text/plain": [
       "250"
      ]
     },
     "execution_count": 22,
     "metadata": {},
     "output_type": "execute_result"
    }
   ],
   "source": [
    "len(soup.select('img'))\n",
    "\n",
    "# alt_title = [e.get('alt') for e in soup.select('img')]   #alt代表如果圖片讀不出來，就會顯示電影名字\n",
    "# alt_title \n",
    "\n",
    "# posters = [e.get(\"src\") for e in soup.select('.posterColumn img')] # The CSS Selector for posters\n",
    "# print(posters)"
   ]
  },
  {
   "cell_type": "code",
   "execution_count": null,
   "metadata": {},
   "outputs": [],
   "source": []
  }
 ],
 "metadata": {
  "celltoolbar": "Slideshow",
  "kernelspec": {
   "display_name": "Python 3",
   "language": "python",
   "name": "python3"
  },
  "language_info": {
   "codemirror_mode": {
    "name": "ipython",
    "version": 3
   },
   "file_extension": ".py",
   "mimetype": "text/x-python",
   "name": "python",
   "nbconvert_exporter": "python",
   "pygments_lexer": "ipython3",
   "version": "3.8.8"
  }
 },
 "nbformat": 4,
 "nbformat_minor": 4
}
