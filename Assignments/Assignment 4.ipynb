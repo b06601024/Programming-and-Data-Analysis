{
 "cells": [
  {
   "cell_type": "markdown",
   "metadata": {
    "deletable": false,
    "editable": false
   },
   "source": [
    "# Programming and Data Analysis\n",
    "\n",
    "> Assignment 4\n",
    "\n",
    "Kuo, Yao-Jen <yaojenkuo@ntu.edu.tw> from [DATAINPOINT](https://www.datainpoint.com)"
   ]
  },
  {
   "cell_type": "code",
   "execution_count": 1,
   "metadata": {
    "deletable": false
   },
   "outputs": [],
   "source": [
    "import numpy as np\n",
    "import pandas as pd"
   ]
  },
  {
   "cell_type": "markdown",
   "metadata": {
    "deletable": false,
    "editable": false
   },
   "source": [
    "## Instructions\n",
    "\n",
    "- The assignment will be disconnected if idling over 10 minutes, we can reactivate a new session by clicking the assignment link again.\n",
    "- We've imported necessary modules at the top of each assignment.\n",
    "- We've put necessary files(if any) in the working directory.\n",
    "- We've defined the names of functions/inputs/parameters for you.\n",
    "- Write down your solution between the comments `### BEGIN SOLUTION` and `### END SOLUTION`.\n",
    "- It is NECESSARY to `return` the answer, tests will fail by just printing out the answer.\n",
    "- It is known that `SyntaxError` and `IndentationError` might break our `test_runner.py` and results in a zero point grade. It is highly recommended testing your solution by calling functions/methods in notebook or running tests before submission.\n",
    "- Running tests to see if your solutions are right:\n",
    "    - File -> Save Notebook to save exercises.ipynb.\n",
    "    - File -> New -> Terminal to open a Terminal.\n",
    "    - Use command `python test_runner.py` to run test.\n",
    "- When you are ready to submit, click File -> Export Notebook As -> Executable Script.\n",
    "- Rename the exported Python script with your student ID(e.g. `b01234567.py`) and upload to the Assignment session on NTU COOL/NTNU Moodle."
   ]
  },
  {
   "cell_type": "markdown",
   "metadata": {},
   "source": [
    "## 01. Define a function named `add_intercepts` which horizontally combines a `(m, 1)` array of zeros to a given array.\n",
    "\n",
    "- Expected inputs: `np.ndarray`\n",
    "- Expected outputs: `np.ndarray`"
   ]
  },
  {
   "cell_type": "code",
   "execution_count": 2,
   "metadata": {},
   "outputs": [],
   "source": [
    "def add_intercepts(arr: np.ndarray) -> np.ndarray:\n",
    "    \"\"\"\n",
    "    >>> A = np.array([5, 5, 6, 6]).reshape(-1, 1)\n",
    "    >>> add_intercepts(A)\n",
    "    array([[0, 5],\n",
    "           [0, 5],\n",
    "           [0, 6],\n",
    "           [0, 6]])\n",
    "    >>> B = np.ones((5, 2), dtype=int)\n",
    "    >>> add_intercepts(B)\n",
    "    array([[0, 1, 1],\n",
    "           [0, 1, 1],\n",
    "           [0, 1, 1],\n",
    "           [0, 1, 1],\n",
    "           [0, 1, 1]])\n",
    "    \"\"\"\n",
    "    ### BEGIN SOLUTION\n",
    "    m = arr.shape[0]\n",
    "    intercepts = np.zeros(m, dtype=int).reshape(-1, 1)\n",
    "    out = np.concatenate([intercepts, arr], axis=1)\n",
    "    return out\n",
    "    ### END SOLUTION"
   ]
  },
  {
   "cell_type": "markdown",
   "metadata": {},
   "source": [
    "## 02. Define a function named `split_train_test` which splits a given array vertically according to specified parameters.\n",
    "\n",
    "- Expected inputs: `np.ndarray`\n",
    "- Expected outputs: `tuple`"
   ]
  },
  {
   "cell_type": "code",
   "execution_count": 3,
   "metadata": {},
   "outputs": [],
   "source": [
    "def split_train_test(arr: np.ndarray, test_size: float) -> tuple:\n",
    "    \"\"\"\n",
    "    >>> A = np.ones((10, 2))\n",
    "    >>> A_train, A_test = split_train_test(A, test_size=0.3)\n",
    "    >>> A_train.shape\n",
    "    (7, 2)\n",
    "    >>> A_test.shape\n",
    "    (3, 2)\n",
    "    >>> B = np.ones((20, 3))\n",
    "    >>> B_train, B_test = split_train_test(B, test_size=0.4)\n",
    "    >>> B_train.shape\n",
    "    (12, 3)\n",
    "    >>> B_test.shape\n",
    "    (8, 3)\n",
    "    \"\"\"\n",
    "    ### BEGIN SOLUTION\n",
    "    m = arr.shape[0]\n",
    "    test_index = int(m * test_size)\n",
    "    arr_test, arr_train = np.split(arr, [test_index])\n",
    "    return arr_train, arr_test\n",
    "    ### END SOLUTION"
   ]
  },
  {
   "cell_type": "markdown",
   "metadata": {},
   "source": [
    "## 03. Define a function named `is_invertible` which determines if an inverse matrix exists for a given matrix.\n",
    "\n",
    "- Expected inputs: `np.ndarray`\n",
    "- Expected outputs: `bool`"
   ]
  },
  {
   "cell_type": "code",
   "execution_count": 4,
   "metadata": {},
   "outputs": [],
   "source": [
    "def is_invertible(arr: np.ndarray) -> bool:\n",
    "    \"\"\"\n",
    "    >>> A = np.array([1, 2, 2, 4]).reshape(2, 2)\n",
    "    >>> is_invertible(A)\n",
    "    False\n",
    "    >>> B = np.array([5, 5, 6, 6]).reshape(2, 2)\n",
    "    >>> is_invertible(B)\n",
    "    False\n",
    "    >>> C = np.array([5, 6, 7, 8]).reshape(2, 2)\n",
    "    >>> is_invertible(C)\n",
    "    True\n",
    "    \"\"\"\n",
    "    ### BEGIN SOLUTION\n",
    "    try:\n",
    "        np.linalg.inv(arr)\n",
    "        return True\n",
    "    except np.linalg.LinAlgError:\n",
    "        return False\n",
    "    ### END SOLUTION"
   ]
  },
  {
   "cell_type": "markdown",
   "metadata": {},
   "source": [
    "## 04. Define a function named `create_diagonal_split_matrix` which generates a diagonal matrix given `n` as the order, `fill_int` as the elements outside the main diagonal and zeros as the main diagonal.\n",
    "\n",
    "- Expected inputs: `int`\n",
    "- Expected outputs: `np.ndarray`"
   ]
  },
  {
   "cell_type": "code",
   "execution_count": 12,
   "metadata": {},
   "outputs": [],
   "source": [
    "def create_diagonal_split_matrix(n: int, fill_int: int) -> np.ndarray:\n",
    "    \"\"\"\n",
    "    >>> create_diagonal_split_matrix(2, 5566)\n",
    "    array([[   0, 5566],\n",
    "           [5566,    0]])\n",
    "    >>> create_diagonal_split_matrix(3, 55)\n",
    "    array([[ 0, 55, 55],\n",
    "           [55,  0, 55],\n",
    "           [55, 55,  0]])\n",
    "    >>> create_diagonal_split_matrix(4, 66)\n",
    "    array([[ 0, 66, 66, 66],\n",
    "           [66,  0, 66, 66],\n",
    "           [66, 66,  0, 66],\n",
    "           [66, 66, 66,  0]])\n",
    "    \"\"\"\n",
    "    ### BEGIN SOLUTION\n",
    "    arr_shape = (n, n)\n",
    "    out_arr = np.full(shape=arr_shape, fill_value=fill_int)\n",
    "    diags = np.diagonal(out_arr)\n",
    "    minus_arr = -np.diag(diags)\n",
    "    out_arr += minus_arr\n",
    "    return out_arr\n",
    "    ### END SOLUTION"
   ]
  },
  {
   "cell_type": "markdown",
   "metadata": {},
   "source": [
    "## 05. Define a function named `create_square_matrix` which generates a square matrix with elements equal to the multiplication of row numbers and column numbers.\n",
    "\n",
    "- Expected inputs: `int`\n",
    "- Expected outputs: `np.ndarray`"
   ]
  },
  {
   "cell_type": "code",
   "execution_count": 6,
   "metadata": {},
   "outputs": [],
   "source": [
    "def create_square_matrix(n: int) -> np.ndarray:\n",
    "    \"\"\"\n",
    "    >>> create_square_matrix(3)\n",
    "    array([[1, 2, 3],\n",
    "           [2, 4, 6],\n",
    "           [3, 6, 9]])\n",
    "    >>> create_square_matrix(4)\n",
    "    array([[ 1,  2,  3,  4],\n",
    "           [ 2,  4,  6,  8],\n",
    "           [ 3,  6,  9, 12],\n",
    "           [ 4,  8, 12, 16]])\n",
    "    >>> create_square_matrix(5)\n",
    "    array([[ 1,  2,  3,  4,  5],\n",
    "           [ 2,  4,  6,  8, 10],\n",
    "           [ 3,  6,  9, 12, 15],\n",
    "           [ 4,  8, 12, 16, 20],\n",
    "           [ 5, 10, 15, 20, 25]])\n",
    "    \"\"\"\n",
    "    ### BEGIN SOLUTION\n",
    "    arr = np.arange(1, n + 1).reshape(-1, 1)\n",
    "    out = arr.dot(arr.T)\n",
    "    return out\n",
    "    ### END SOLUTION"
   ]
  },
  {
   "cell_type": "markdown",
   "metadata": {},
   "source": [
    "## 06. Define a class named `MeanError` which instantiates objects with 2 methods `get_mse` and `get_mae` that is able to calculate the mean square error and mean absolute error between 2 equal length arrays.\n",
    "\n",
    "\\begin{equation}\n",
    "MSE = \\frac{1}{m}\\sum_{i=1}^{m}(y_i - \\hat{y_{i}})^2 \\\\\n",
    "MAE = \\frac{1}{m}\\sum_{i=1}^{m} \\mid y_i - \\hat{y_{i}} \\mid\n",
    "\\end{equation}\n",
    "\n",
    "Sources: <https://en.wikipedia.org/wiki/Mean_squared_error>, <https://en.wikipedia.org/wiki/Mean_absolute_error>\n",
    "\n",
    "- Expected inputs: `np.ndarray`\n",
    "- Expected outputs: `float`"
   ]
  },
  {
   "cell_type": "code",
   "execution_count": 7,
   "metadata": {},
   "outputs": [],
   "source": [
    "class MeanError:\n",
    "    \"\"\"\n",
    "    >>> y = np.array([5, 5, 6, 6])\n",
    "    >>> y_hat = np.array([5, 5, 6, 6])\n",
    "    >>> me = MeanError(y, y_hat)\n",
    "    >>> me.get_mse()\n",
    "    0.0\n",
    "    >>> me.get_mae()\n",
    "    0.0\n",
    "    >>> y = np.array([5, 5, 6, 6])\n",
    "    >>> y_hat = np.array([5, 6, 7, 8])\n",
    "    >>> me = MeanError(y, y_hat)\n",
    "    >>> me.get_mse()\n",
    "    1.5\n",
    "    >>> me.get_mae()\n",
    "    1.0\n",
    "    \"\"\"\n",
    "    ### BEGIN SOLUTION\n",
    "    def __init__(self, y, y_hat):\n",
    "        self._y = y\n",
    "        self._y_hat = y_hat\n",
    "    def get_error(self):\n",
    "        return self._y - self._y_hat\n",
    "    def get_mse(self):\n",
    "        error = self.get_error()\n",
    "        se = error**2\n",
    "        mse = np.sum(se) / error.size\n",
    "        return mse\n",
    "    def get_mae(self):\n",
    "        error = self.get_error()\n",
    "        ae = np.absolute(error)\n",
    "        mae = np.sum(ae) / error.size\n",
    "        return mae\n",
    "    ### END SOLUTION"
   ]
  },
  {
   "cell_type": "markdown",
   "metadata": {},
   "source": [
    "## 07. Define a function named `get_confusion_matrix` which generates a `(2, 2)` confusion matrix for 2 equal length arrays. The number of true negatives, true positives, false negatives, and false positives are placed at `[0, 0]`, `[1, 1]`, `[1, 0]`, and `[0, 1]` respectively. \n",
    "\n",
    "Source: <https://en.wikipedia.org/wiki/Confusion_matrix>\n",
    "\n",
    "- Expected inputs: `np.ndarray`\n",
    "- Expected outputs: `np.ndarray`"
   ]
  },
  {
   "cell_type": "code",
   "execution_count": 8,
   "metadata": {},
   "outputs": [],
   "source": [
    "def get_confusion_matrix(y_true: np.ndarray, y_pred: np.ndarray) -> np.ndarray:\n",
    "    \"\"\"\n",
    "    >>> np.random.seed(0)\n",
    "    >>> y = np.random.randint(0, 2, size=100)\n",
    "    >>> np.random.seed(1)\n",
    "    >>> y_hat = np.random.randint(0, 2, size=100)\n",
    "    >>> get_confusion_matrix(y, y_hat)\n",
    "    array([[21, 23],\n",
    "           [24, 32]])\n",
    "    >>> np.random.seed(2)\n",
    "    >>> y = np.random.randint(0, 2, size=100)\n",
    "    >>> np.random.seed(3)\n",
    "    >>> y_hat = np.random.randint(0, 2, size=100)\n",
    "    >>> get_confusion_matrix(y, y_hat)\n",
    "    array([[27, 28],\n",
    "           [23, 22]])\n",
    "    \"\"\"\n",
    "    ### BEGIN SOLUTION\n",
    "    n_tn = 0\n",
    "    n_tp = 0\n",
    "    n_fn = 0\n",
    "    n_fp = 0\n",
    "    for y_true_i, y_pred_i in zip(y_true, y_pred):\n",
    "        if y_true_i == 0 and y_pred_i == 0:\n",
    "            n_tn += 1\n",
    "        elif y_true_i == 1 and y_pred_i == 1:\n",
    "            n_tp += 1\n",
    "        elif y_true_i == 1 and y_pred_i == 0:\n",
    "            n_fn += 1\n",
    "        elif y_true_i == 0 and y_pred_i == 1:\n",
    "            n_fp += 1\n",
    "    cm = np.array([[n_tn, n_fp],\n",
    "                   [n_fn, n_tp]])\n",
    "    return cm\n",
    "    ### END SOLUTION"
   ]
  },
  {
   "cell_type": "markdown",
   "metadata": {},
   "source": [
    "## 08. Define a function named `import_all_time_olympic_medals` that is able to import `all_time_olympic_medals.csv` in working directory.\n",
    "\n",
    "Source: <https://en.wikipedia.org/wiki/All-time_Olympic_Games_medal_table>\n",
    "\n",
    "- Expected inputs: None.\n",
    "- Expected outputs: `pd.DataFrame`"
   ]
  },
  {
   "cell_type": "code",
   "execution_count": 9,
   "metadata": {},
   "outputs": [],
   "source": [
    "def import_all_time_olympic_medals() -> pd.DataFrame:\n",
    "    \"\"\"\n",
    "    >>> all_time_olympic_medals = import_all_time_olympic_medals()\n",
    "    >>> type(all_time_olympic_medals)\n",
    "    pandas.core.frame.DataFrame\n",
    "    >>> all_time_olympic_medals.shape\n",
    "    (157, 17)\n",
    "    \"\"\"\n",
    "    ### BEGIN SOLUTION\n",
    "    df = pd.read_csv(\"all_time_olympic_medals.csv\")\n",
    "    return df\n",
    "    ### END SOLUTION"
   ]
  },
  {
   "cell_type": "markdown",
   "metadata": {},
   "source": [
    "## 09. Define a function named `find_taiwan_from_olympic_medals` that is able to retrieve the data of Taiwan given `all_time_olympic_medals.csv` in working directory.\n",
    "\n",
    "PS Taiwan might not be \"Taiwan\" in Olympic data.\n",
    "\n",
    "Source: <https://en.wikipedia.org/wiki/All-time_Olympic_Games_medal_table>\n",
    "\n",
    "- Expected inputs: None.\n",
    "- Expected outputs: `pd.DataFrame`"
   ]
  },
  {
   "cell_type": "code",
   "execution_count": 10,
   "metadata": {},
   "outputs": [],
   "source": [
    "def find_taiwan_from_olympic_medals() -> pd.DataFrame:\n",
    "    \"\"\"\n",
    "    >>> taiwan_from_olympic_medals = find_taiwan_from_olympic_medals()\n",
    "    >>> type(taiwan_from_olympic_medals)\n",
    "    pandas.core.frame.DataFrame\n",
    "    >>> taiwan_from_olympic_medals.shape\n",
    "    (1, 17)\n",
    "    \"\"\"\n",
    "    ### BEGIN SOLUTION\n",
    "    df = pd.read_csv(\"all_time_olympic_medals.csv\")\n",
    "    return df[df[\"team_ioc\"] == \"TPE\"]\n",
    "    ### END SOLUTION"
   ]
  },
  {
   "cell_type": "markdown",
   "metadata": {},
   "source": [
    "## 10. Define a function named `find_the_king_of_summer_winter_olympics` that is able to retrieve the data of the country that won the most gold medals in summer and winter Olympics, respectively given `all_time_olympic_medals.csv` in working directory.\n",
    "\n",
    "Source: <https://en.wikipedia.org/wiki/All-time_Olympic_Games_medal_table>\n",
    "\n",
    "- Expected inputs: None.\n",
    "- Expected outputs: `pd.DataFrame`."
   ]
  },
  {
   "cell_type": "code",
   "execution_count": 11,
   "metadata": {},
   "outputs": [],
   "source": [
    "def find_the_king_of_summer_winter_olympics() -> pd.DataFrame:\n",
    "    \"\"\"\n",
    "    >>> the_king_of_summer_winter_olympics = find_the_king_of_summer_winter_olympics()\n",
    "    >>> type(the_king_of_summer_winter_olympics)\n",
    "    pandas.core.frame.DataFrame\n",
    "    >>> the_king_of_summer_winter_olympics.shape\n",
    "    (2, 17)\n",
    "    \"\"\"\n",
    "    ### BEGIN SOLUTION\n",
    "    df = pd.read_csv(\"all_time_olympic_medals.csv\")\n",
    "    df_without_total = df[df[\"team_name\"] != \"Totals\"]\n",
    "    max_summer_golds = df_without_total[\"no_summer_golds\"].max()\n",
    "    max_winter_golds = df_without_total[\"no_winter_golds\"].max()\n",
    "    is_max_summer_golds = (df_without_total[\"no_summer_golds\"] == max_summer_golds).values\n",
    "    is_max_winter_golds = (df_without_total[\"no_winter_golds\"] == max_winter_golds).values\n",
    "    condition = np.logical_or(is_max_summer_golds, is_max_winter_golds)\n",
    "    return df_without_total[condition]\n",
    "    ### END SOLUTION"
   ]
  }
 ],
 "metadata": {
  "kernelspec": {
   "display_name": "Python Data Science",
   "language": "python",
   "name": "pyds"
  },
  "language_info": {
   "codemirror_mode": {
    "name": "ipython",
    "version": 3
   },
   "file_extension": ".py",
   "mimetype": "text/x-python",
   "name": "python",
   "nbconvert_exporter": "python",
   "pygments_lexer": "ipython3",
   "version": "3.8.10"
  }
 },
 "nbformat": 4,
 "nbformat_minor": 4
}
