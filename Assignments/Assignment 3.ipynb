{
 "cells": [
  {
   "cell_type": "markdown",
   "metadata": {
    "deletable": false,
    "editable": false
   },
   "source": [
    "# Programming and Data Analysis\n",
    "\n",
    "> Assignment 3\n",
    "\n",
    "Kuo, Yao-Jen <yaojenkuo@ntu.edu.tw> from [DATAINPOINT](https://www.datainpoint.com)"
   ]
  },
  {
   "cell_type": "code",
   "execution_count": null,
   "metadata": {
    "deletable": false,
    "editable": false
   },
   "outputs": [],
   "source": [
    "import json"
   ]
  },
  {
   "cell_type": "markdown",
   "metadata": {
    "deletable": false,
    "editable": false
   },
   "source": [
    "## Instructions\n",
    "\n",
    "- The assignment will be disconnected if idling over 10 minutes, we can reactivate a new session by clicking the assignment link again.\n",
    "- We've imported necessary modules at the top of each assignment.\n",
    "- We've put necessary files(if any) in the working directory.\n",
    "- We've defined the names of functions/inputs/parameters for you.\n",
    "- Write down your solution between the comments `### BEGIN SOLUTION` and `### END SOLUTION`.\n",
    "- It is NECESSARY to `return` the answer, tests will fail by just printing out the answer.\n",
    "- It is known that `SyntaxError` and `IndentationError` might break our `test_runner.py` and results in a zero point grade. It is highly recommended testing your solution by calling functions/methods in notebook or running tests before submission.\n",
    "- Running tests to see if your solutions are right:\n",
    "    - File -> Save Notebook to save exercises.ipynb.\n",
    "    - File -> New -> Terminal to open a Terminal.\n",
    "    - Use command `python test_runner.py` to run test.\n",
    "- When you are ready to submit, click File -> Export Notebook As -> Executable Script.\n",
    "- Rename the exported Python script with your student ID(e.g. `b01234567.py`) and upload to the Assignment session on NTU COOL/NTNU Moodle."
   ]
  },
  {
   "cell_type": "markdown",
   "metadata": {},
   "source": [
    "## 01. Define a function named `square_negatives_from_args(*args)` which takes flexible integers and returns positive ones in a list.\n",
    "\n",
    "- Expected inputs: `*args`.\n",
    "- Expected outputs: `list`."
   ]
  },
  {
   "cell_type": "code",
   "execution_count": null,
   "metadata": {},
   "outputs": [],
   "source": [
    "def square_negatives_from_args(*args) -> list:\n",
    "    \"\"\"\n",
    "    >>> square_negatives_from_args(-3, -2, -1, 0, 1, 2, 3)\n",
    "    [9, 4, 1]\n",
    "    >>> square_negatives_from_args(-3, -2, -1, 0, 1, 2, 3, '4', '5')\n",
    "    [9, 4, 1]\n",
    "    >>> square_negatives_from_args(-3, -2, -1, False, True, 2, 3, '4', '5')\n",
    "    [9, 4, 1]\n",
    "    \"\"\"\n",
    "    ### BEGIN SOLUTION\n",
    "    \n",
    "    ### END SOLUTION"
   ]
  },
  {
   "cell_type": "markdown",
   "metadata": {},
   "source": [
    "## 02. Define a function named `find_positives_from_args(*args)` which takes flexible inputs and returns positive ones.\n",
    "\n",
    "- Expected inputs: `*args`.\n",
    "- Expected outputs: `list`."
   ]
  },
  {
   "cell_type": "code",
   "execution_count": null,
   "metadata": {},
   "outputs": [],
   "source": [
    "def filter_positives_from_args(*args) -> list:\n",
    "    \"\"\"\n",
    "    >>> filter_positives_from_args(-3, -2, -1, 0, 1, 2, 3)\n",
    "    [0, 1, 2, 3]\n",
    "    >>> filter_positives_from_args(-3, -2, -1, 0, 1, 2, 3, '4', '5')\n",
    "    [0, 1, 2, 3]\n",
    "    >>> filter_positives_from_args(-3, -2, -1, False, True, 2, 3, '4', '5')\n",
    "    [False, True, 2, 3]\n",
    "    \"\"\"\n",
    "    ### BEGIN SOLUTION\n",
    "    \n",
    "    ### END SOLUTION"
   ]
  },
  {
   "cell_type": "markdown",
   "metadata": {},
   "source": [
    "## 03. Define a function named `uppercase_keys_from_kwargs(**kwargs)` which takes flexible inputs and returns keys in uppercased.\n",
    "\n",
    "- Expected inputs: `**kwargs`.\n",
    "- Expected outputs: `list`."
   ]
  },
  {
   "cell_type": "code",
   "execution_count": null,
   "metadata": {},
   "outputs": [],
   "source": [
    "def uppercase_keys_from_kwargs(**kwargs) -> list:\n",
    "    \"\"\"\n",
    "    >>> uppercase_keys_from_kwargs(twn='Taiwan')\n",
    "    ['TWN']\n",
    "    >>> uppercase_keys_from_kwargs(twn='Taiwan', jpn='Japan')\n",
    "    ['TWN', 'JPN']\n",
    "    >>> uppercase_keys_from_kwargs(twn='Taiwan', jpn='Japan', ltu=\"Lithuania\")\n",
    "    ['TWN', 'JPN', 'LTU']\n",
    "    >>> uppercase_keys_from_kwargs(twn='Taiwan', jpn='Japan', ltu=\"Lithuania\", svn='Slovenia')\n",
    "    ['TWN', 'JPN', 'LTU', 'SVN']\n",
    "    \"\"\"\n",
    "    ### BEGIN SOLUTION\n",
    "    \n",
    "    ### END SOLUTION"
   ]
  },
  {
   "cell_type": "markdown",
   "metadata": {},
   "source": [
    "## 04. Define a function named `count_number_of_each_vowel(x)` which counts the number of occurrence for each vowel in a given string.\n",
    "\n",
    "- Expected inputs: `str`.\n",
    "- Expected outputs: `dict`."
   ]
  },
  {
   "cell_type": "code",
   "execution_count": null,
   "metadata": {},
   "outputs": [],
   "source": [
    "def count_number_of_each_vowel(x: str) -> dict:\n",
    "    \"\"\"\n",
    "    >>> count_number_of_each_vowel(\"Python\")\n",
    "    {'o': 1}\n",
    "    >>> count_number_of_each_vowel(\"Anaconda\")\n",
    "    {'a': 3, 'o': 1}\n",
    "    >>> count_number_of_each_vowel(\"Programming and Data Analysis\")\n",
    "    {'o': 1, 'a': 6, 'i': 2}\n",
    "    >>> count_number_of_each_vowel(\"National Taiwan University\")\n",
    "    {'a': 4, 'i': 4, 'o': 1, 'u': 1, 'e': 1}\n",
    "    \"\"\"\n",
    "    ### BEGIN SOLUTION\n",
    "    \n",
    "    ### END SOLUTION"
   ]
  },
  {
   "cell_type": "markdown",
   "metadata": {},
   "source": [
    "## 05. Define a class named `Palindrome` which instantiates objects with 2 attributes `original_text` and `reversed_text`, and 1 method `is_palindrome()`.\n",
    "\n",
    "- Expected inputs: `str`.\n",
    "- Expected outputs: `str`/`bool`."
   ]
  },
  {
   "cell_type": "code",
   "execution_count": null,
   "metadata": {},
   "outputs": [],
   "source": [
    "class Palindrome:\n",
    "    \"\"\"\n",
    "    >>> palindrome = Palindrome('eye')\n",
    "    >>> palindrome.original_text\n",
    "    'eye'\n",
    "    >>> palindrome.reversed_text\n",
    "    'eye'\n",
    "    >>> palindrome.is_palindrome()\n",
    "    True\n",
    "    >>> palindrome = Palindrome('dye')\n",
    "    >>> palindrome.original_text\n",
    "    'dye'\n",
    "    >>> palindrome.reversed_text\n",
    "    'eyd'\n",
    "    >>> palindrome.is_palindrome()\n",
    "    False\n",
    "    \"\"\"\n",
    "    ### BEGIN SOLUTION\n",
    "    \n",
    "    ### END SOLUTION"
   ]
  },
  {
   "cell_type": "markdown",
   "metadata": {},
   "source": [
    "## 06. Define a class named `CommonDivisors` which instantiates objects with 2 attributes `x_divisors` and `y_divisors`, and 1 method `get_common_divisors()`.\n",
    "\n",
    "- Expected inputs: `int`.\n",
    "- Expected outputs: `set`."
   ]
  },
  {
   "cell_type": "code",
   "execution_count": null,
   "metadata": {},
   "outputs": [],
   "source": [
    "class CommonDivisors:\n",
    "    \"\"\"\n",
    "    >>> cd = CommonDivisors(3, 6)\n",
    "    >>> cd.x_divisors\n",
    "    {1, 3}\n",
    "    >>> cd.y_divisors\n",
    "    {1, 2, 3, 6}\n",
    "    >>> cd.get_common_divisors()\n",
    "    {1, 3}\n",
    "    >>> cd = CommonDivisors(4, 8)\n",
    "    >>> cd.x_divisors\n",
    "    {1, 2, 4}\n",
    "    >>> cd.y_divisors\n",
    "    {1, 2, 4, 8}\n",
    "    >>> cd.get_common_divisors()\n",
    "    {1, 2, 4}\n",
    "    \"\"\"\n",
    "    ### BEGIN SOLUTION\n",
    "    \n",
    "    ### END SOLUTION"
   ]
  },
  {
   "cell_type": "markdown",
   "metadata": {},
   "source": [
    "## 07. Define a class named `PrimeJudgement` which instantiates objects with 2 methods `get_divisors()`, `is_prime()`.\n",
    "\n",
    "- Expected inputs: `int`.\n",
    "- Expected outputs: `set`/`bool`."
   ]
  },
  {
   "cell_type": "code",
   "execution_count": null,
   "metadata": {},
   "outputs": [],
   "source": [
    "class PrimeJudgement:\n",
    "    \"\"\"\n",
    "    >>> pj = PrimeJudgement(1)\n",
    "    >>> pj.get_divisors()\n",
    "    {1}\n",
    "    >>> pj.is_prime()\n",
    "    False\n",
    "    >>> pj = PrimeJudgement(2)\n",
    "    >>> pj.get_divisors()\n",
    "    {1, 2}\n",
    "    >>> pj.is_prime()\n",
    "    True\n",
    "    >>> pj = PrimeJudgement(4)\n",
    "    >>> pj.get_divisors()\n",
    "    {1, 2, 4}\n",
    "    >>> pj.is_prime()\n",
    "    False\n",
    "    \"\"\"\n",
    "    ### BEGIN SOLUTION\n",
    "    \n",
    "    ### END SOLUTION"
   ]
  },
  {
   "cell_type": "markdown",
   "metadata": {},
   "source": [
    "## 08. Define a function named `load_teams_json` that is able to load `teams.json` in our working directory and returns a `dict`.\n",
    "\n",
    "Source: <https://docs.python.org/3/library/json.html>\n",
    "\n",
    "- Expected inputs: `str`\n",
    "- Expected outputs：`dict`."
   ]
  },
  {
   "cell_type": "code",
   "execution_count": null,
   "metadata": {},
   "outputs": [],
   "source": [
    "def load_teams_json(x):\n",
    "    \"\"\"\n",
    "    >>> teams = load_teams_json('teams.json')\n",
    "    >>> type(teams)\n",
    "    dict\n",
    "    >>> len(teams)\n",
    "    2\n",
    "    >>> teams.keys()\n",
    "    dict_keys(['_internal', 'league'])\n",
    "    \"\"\"\n",
    "    ### BEGIN SOLUTION\n",
    "    \n",
    "    ### END SOLUTION"
   ]
  },
  {
   "cell_type": "markdown",
   "metadata": {},
   "source": [
    "## 09. Define a function named `find_team_full_names` that is able to extract the full names of 30 NBA teams.\n",
    "\n",
    "- Expected inputs: `str`\n",
    "- Expected outputs：`list`."
   ]
  },
  {
   "cell_type": "code",
   "execution_count": null,
   "metadata": {},
   "outputs": [],
   "source": [
    "def find_team_full_names(x):\n",
    "    \"\"\"\n",
    "    >>> team_full_names = find_team_full_names('teams.json')\n",
    "    >>> type(team_full_names)\n",
    "    list\n",
    "    >>> len(team_full_names)\n",
    "    30\n",
    "    >>> team_full_names[:5]\n",
    "    ['Atlanta Hawks',\n",
    "     'Boston Celtics',\n",
    "     'Brooklyn Nets',\n",
    "     'Charlotte Hornets',\n",
    "     'Chicago Bulls']\n",
    "    >>> team_full_names[-5:]\n",
    "    ['Sacramento Kings',\n",
    "     'San Antonio Spurs',\n",
    "     'Toronto Raptors',\n",
    "     'Utah Jazz',\n",
    "     'Washington Wizards']\n",
    "    \"\"\"\n",
    "    ### BEGIN SOLUTION\n",
    "    \n",
    "    ### END SOLUTION"
   ]
  },
  {
   "cell_type": "markdown",
   "metadata": {},
   "source": [
    "## 10. Define a function named `find_teams_with_special_tricodes` that is able to find teams whose tricode is not the first 3 letters of their full name in upper-cased. e.g. teams like Brooklyn Nets(BKN) and San Antonio Spurs(SAS) are what we are looking for. Teams like Boston Celtics(BOS) and LA Clippers(LAC) are NOT what we are looking for.\n",
    "\n",
    "- Expected inputs: `str`.\n",
    "- Expected outputs：`dict`."
   ]
  },
  {
   "cell_type": "code",
   "execution_count": null,
   "metadata": {},
   "outputs": [],
   "source": [
    "def find_teams_with_special_tricodes(x):\n",
    "    \"\"\"\n",
    "    >>> teams_with_special_tricodes = find_teams_with_special_tricodes('teams.json')\n",
    "    >>> type(teams_with_special_tricodes)\n",
    "    dict\n",
    "    >>> len(teams_with_special_tricodes)\n",
    "    8\n",
    "    >>> teams_with_special_tricodes['BKN']\n",
    "    'Brooklyn Nets'\n",
    "    >>> teams_with_special_tricodes['SAS']\n",
    "    'San Antonio Spurs'\n",
    "    \"\"\"\n",
    "    ### BEGIN SOLUTION\n",
    "    \n",
    "    ### END SOLUTION"
   ]
  }
 ],
 "metadata": {
  "celltoolbar": "Edit Metadata",
  "kernelspec": {
   "display_name": "prgda",
   "language": "python",
   "name": "prgda"
  },
  "language_info": {
   "codemirror_mode": {
    "name": "ipython",
    "version": 3
   },
   "file_extension": ".py",
   "mimetype": "text/x-python",
   "name": "python",
   "nbconvert_exporter": "python",
   "pygments_lexer": "ipython3",
   "version": "3.10.0"
  }
 },
 "nbformat": 4,
 "nbformat_minor": 4
}
