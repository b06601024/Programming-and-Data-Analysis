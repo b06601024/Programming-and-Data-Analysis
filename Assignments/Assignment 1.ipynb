{
 "cells": [
  {
   "cell_type": "markdown",
   "metadata": {
    "deletable": false,
    "editable": false
   },
   "source": [
    "# Programming and Data Analysis\n",
    "\n",
    "> Assignment 1\n",
    "\n",
    "Kuo, Yao-Jen <yaojenkuo@ntu.edu.tw> from [DATAINPOINT](https://www.datainpoint.com)"
   ]
  },
  {
   "cell_type": "markdown",
   "metadata": {
    "deletable": false,
    "editable": false
   },
   "source": [
    "## Instructions\n",
    "\n",
    "- The assignment will be disconnected if idling over 10 minutes, we can reactivate a new session by clicking the assignment link again.\n",
    "- We've imported necessary modules at the top of each assignment.\n",
    "- We've put necessary files(if any) in the working directory.\n",
    "- We've defined the names of functions/inputs/parameters for you.\n",
    "- Write down your solution between the comments `### BEGIN SOLUTION` and `### END SOLUTION`.\n",
    "- It is NECESSARY to `return` the answer, tests will fail by just printing out the answer.\n",
    "- You can run tests after each question or after finishing all questions.\n",
    "- Running tests to see if your solutions are right:\n",
    "    - File -> Save Notebook to save exercises.ipynb.\n",
    "    - File -> New -> Terminal to open a Terminal.\n",
    "    - Use command `python test_runner.py` to run test.\n",
    "- When you are ready to submit, click File -> Export Notebook As -> Executable Script.\n",
    "- Rename the exported Python script with your student ID(e.g. `b01234567.py`) and upload to the Assignment session on NTU COOL/NTNU Moodle."
   ]
  },
  {
   "cell_type": "markdown",
   "metadata": {},
   "source": [
    "## 01. Define a function named `calculate_movie_minutes(hours, mins)` which returns the time of a movie in minutes from hours and minutes.\n",
    "\n",
    "- Expected inputs: 2 numerics `hours` and `mins`.\n",
    "- Expected outputs: a numeric."
   ]
  },
  {
   "cell_type": "code",
   "execution_count": null,
   "metadata": {},
   "outputs": [],
   "source": [
    "def calculate_movie_minutes(hours, mins):\n",
    "    \"\"\"\n",
    "    >>> calculate_movie_minutes(2, 22) # The Shawshank Redemption\n",
    "    142\n",
    "    >>> calculate_movie_minutes(2, 55) # The Godfather\n",
    "    175\n",
    "    >>> calculate_movie_minutes(2, 32) # The Dark Knight\n",
    "    152\n",
    "    \"\"\"\n",
    "    ### BEGIN SOLUTION\n",
    "    \n",
    "    ### END SOLUTION"
   ]
  },
  {
   "cell_type": "markdown",
   "metadata": {},
   "source": [
    "## 02. Define a function named `convert_kilometer_to_mile(km)` which converts kilometers to miles of a given distance in kilometers.\n",
    "\n",
    "\\begin{equation}\n",
    "1 \\; \\text{km} = 0.621371192 \\; \\text{mile}\n",
    "\\end{equation}\n",
    "\n",
    "- Expected inputs: a numerics `km`.\n",
    "- Expected outputs: a numeric."
   ]
  },
  {
   "cell_type": "code",
   "execution_count": null,
   "metadata": {},
   "outputs": [],
   "source": [
    "def convert_kilometer_to_mile(km):\n",
    "    \"\"\"\n",
    "    >>> convert_kilometer_to_mile(42.195) # a full marathon\n",
    "    26.21875744644\n",
    "    >>> convert_kilometer_to_mile(21.095) # a half marathon\n",
    "    13.10782529524\n",
    "    \"\"\"\n",
    "    ### BEGIN SOLUTION\n",
    "    \n",
    "    ### END SOLUTION"
   ]
  },
  {
   "cell_type": "markdown",
   "metadata": {},
   "source": [
    "## 03. Define a function named `convert_fahrenheit_to_celsius(x)` which converts Fahrenheit degrees to Celsius degrees.\n",
    "\n",
    "\\begin{equation}\n",
    "Celsius^{\\circ} C = (Fahrenheit^{\\circ} F - 32) \\times \\frac{5}{9}\n",
    "\\end{equation}\n",
    "\n",
    "- Expected inputs: a numeric `x`.\n",
    "- Expected outputs: a numeric."
   ]
  },
  {
   "cell_type": "code",
   "execution_count": null,
   "metadata": {},
   "outputs": [],
   "source": [
    "def convert_fahrenheit_to_celsius(x):\n",
    "    \"\"\"\n",
    "    >>> convert_fahrenheit_to_celsius(212)\n",
    "    100.0\n",
    "    >>> convert_fahrenheit_to_celsius(32)\n",
    "    0.0\n",
    "    \"\"\"\n",
    "    ### BEGIN SOLUTION\n",
    "    \n",
    "    ### END SOLUTION"
   ]
  },
  {
   "cell_type": "markdown",
   "metadata": {},
   "source": [
    "## 04. Define a function named `calculate_bmi(height, weight)` which calculates BMI according to heights in centimeters and weights in kilograms.\n",
    "\n",
    "\\begin{equation}\n",
    "BMI = \\frac{weight_{kg}}{height_{m}^2}\n",
    "\\end{equation}\n",
    "\n",
    "- Expected inputs: 2 numerics `height` and `weight`.\n",
    "- Expected outputs: a numeric."
   ]
  },
  {
   "cell_type": "code",
   "execution_count": null,
   "metadata": {},
   "outputs": [],
   "source": [
    "def calculate_bmi(height, weight):\n",
    "    \"\"\"\n",
    "    >>> calculate_bmi(216, 147) # Shaquille O'Neal in his prime\n",
    "    31.507201646090532\n",
    "    >>> calculate_bmi(206, 113) # LeBron James\n",
    "    26.628334433028563\n",
    "    >>> calculate_bmi(211, 110) # Giannis Antetokounmpo\n",
    "    24.70744143213315\n",
    "    \"\"\"\n",
    "    ### BEGIN SOLUTION\n",
    "    \n",
    "    ### END SOLUTION"
   ]
  },
  {
   "cell_type": "markdown",
   "metadata": {},
   "source": [
    "## 05. Define a function named `show_integer_with_commas(x)` which returns an integer in comma format. \n",
    "\n",
    "- Expected inputs: a numeric `x`.\n",
    "- Expected outputs: a string."
   ]
  },
  {
   "cell_type": "code",
   "execution_count": null,
   "metadata": {},
   "outputs": [],
   "source": [
    "def show_integer_with_commas(x):\n",
    "    \"\"\"\n",
    "    >>> show_integer_with_commas(1000)\n",
    "    '1,000'\n",
    "    >>> show_integer_with_commas(1000000)\n",
    "    '1,000,000'\n",
    "    >>> show_integer_with_commas(1000000000)\n",
    "    '1,000,000,000'\n",
    "    \"\"\"\n",
    "    ### BEGIN SOLUTION\n",
    "    \n",
    "    ### END SOLUTION"
   ]
  },
  {
   "cell_type": "markdown",
   "metadata": {},
   "source": [
    "## 06. Define a function named `show_big_mac_index(country, currency, price)` which returns the Big Mac Index given a country, its currency, and the price of a Big Mac. \n",
    "\n",
    "- Expected inputs: 2 strings and a numeric.\n",
    "- Expected outputs: a string."
   ]
  },
  {
   "cell_type": "code",
   "execution_count": null,
   "metadata": {},
   "outputs": [],
   "source": [
    "def show_big_mac_index(country, currency, price):\n",
    "    \"\"\"\n",
    "    >>> show_big_mac_index('US', 'USD', 5.65)\n",
    "    A Big Mac costs 5.65 USD in US.\n",
    "    >>> show_big_mac_index('South Korea', 'Won', 6520)\n",
    "    A Big Mac costs 6,520.00 Won in South Korea.\n",
    "    >>> show_big_mac_index('Taiwan', 'NTD', 72)\n",
    "    A Big Mac costs 72.00 NTD in Taiwan.\n",
    "    \"\"\"\n",
    "    ### BEGIN SOLUTION\n",
    "    \n",
    "    ### END SOLUTION"
   ]
  },
  {
   "cell_type": "markdown",
   "metadata": {},
   "source": [
    "## 07. Define a function named `is_positive(x)` which returns whether `x` is positive or not.\n",
    "\n",
    "- Expected inputs: a numeric.\n",
    "- Expected outputs: a boolean."
   ]
  },
  {
   "cell_type": "code",
   "execution_count": null,
   "metadata": {},
   "outputs": [],
   "source": [
    "def is_positive(x):\n",
    "    \"\"\"\n",
    "    >>> is_positive(-1)\n",
    "    False\n",
    "    >>> is_positive(0)\n",
    "    True\n",
    "    >>> is_positive(1)\n",
    "    True\n",
    "    \"\"\"\n",
    "    ### BEGIN SOLUTION\n",
    "    \n",
    "    ### END SOLUTION"
   ]
  },
  {
   "cell_type": "markdown",
   "metadata": {},
   "source": [
    "## 08. Define a function named `is_a_divisor(x, y)` which returns whether `x` is a divisor of `y` or not.\n",
    "\n",
    "- Expected inputs: 2 integers.\n",
    "- Expected outputs: a boolean."
   ]
  },
  {
   "cell_type": "code",
   "execution_count": null,
   "metadata": {},
   "outputs": [],
   "source": [
    "def is_a_divisor(x, y):\n",
    "    \"\"\"\n",
    "    >>> is_a_divisor(1, 3)\n",
    "    True\n",
    "    >>> is_a_divisor(2, 3)\n",
    "    False\n",
    "    >>> is_a_divisor(3, 3)\n",
    "    True\n",
    "    >>> is_a_divisor(1, 4)\n",
    "    True\n",
    "    >>> is_a_divisor(2, 4)\n",
    "    True\n",
    "    >>> is_a_divisor(3, 4)\n",
    "    False\n",
    "    >>> is_a_divisor(4, 4)\n",
    "    True\n",
    "    \"\"\"\n",
    "    ### BEGIN SOLUTION\n",
    "    \n",
    "    ### END SOLUTION"
   ]
  },
  {
   "cell_type": "markdown",
   "metadata": {},
   "source": [
    "## 09. Define a function named `are_vowels_contained(x)` which returns whether x contains one of the vowels: a, e, i, o, u.\n",
    "\n",
    "- Expected inputs: a string.\n",
    "- Expected outputs: a boolean."
   ]
  },
  {
   "cell_type": "code",
   "execution_count": null,
   "metadata": {},
   "outputs": [],
   "source": [
    "def are_vowels_contained(x):\n",
    "    \"\"\"\n",
    "    >>> are_vowels_contained('pythn')\n",
    "    False\n",
    "    >>> are_vowels_contained('ncnd')\n",
    "    False\n",
    "    >>> are_vowels_contained('rtclt')\n",
    "    False\n",
    "    >>> are_vowels_contained('python')\n",
    "    True\n",
    "    >>> are_vowels_contained('anaconda')\n",
    "    True\n",
    "    >>> are_vowels_contained('reticulate')\n",
    "    True\n",
    "    \"\"\"\n",
    "    ### BEGIN SOLUTION\n",
    "    \n",
    "    ### END SOLUTION"
   ]
  },
  {
   "cell_type": "markdown",
   "metadata": {},
   "source": [
    "## 10. Define a function named `are_all_vowels_contained(x)` which returns whether x contains all of the vowels: a, e, i, o, u.\n",
    "\n",
    "- Expected inputs: a string.\n",
    "- Expected outputs: a boolean."
   ]
  },
  {
   "cell_type": "code",
   "execution_count": null,
   "metadata": {},
   "outputs": [],
   "source": [
    "def are_all_vowels_contained(x):\n",
    "    \"\"\"\n",
    "    >>> are_all_vowels_contained('python')\n",
    "    False\n",
    "    >>> are_all_vowels_contained('anaconda')\n",
    "    False\n",
    "    >>> are_all_vowels_contained('reticulate')\n",
    "    False\n",
    "    >>> are_all_vowels_contained('anaconda and reticulate')\n",
    "    True\n",
    "    \"\"\"\n",
    "    ### BEGIN SOLUTION\n",
    "    \n",
    "    ### END SOLUTION"
   ]
  }
 ],
 "metadata": {
  "kernelspec": {
   "display_name": "Python 3 (ipykernel)",
   "language": "python",
   "name": "python3"
  },
  "language_info": {
   "codemirror_mode": {
    "name": "ipython",
    "version": 3
   },
   "file_extension": ".py",
   "mimetype": "text/x-python",
   "name": "python",
   "nbconvert_exporter": "python",
   "pygments_lexer": "ipython3",
   "version": "3.9.7"
  }
 },
 "nbformat": 4,
 "nbformat_minor": 4
}
